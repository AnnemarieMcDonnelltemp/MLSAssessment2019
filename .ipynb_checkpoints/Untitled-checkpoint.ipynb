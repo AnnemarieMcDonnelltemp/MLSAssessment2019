{
 "cells": [
  {
   "cell_type": "code",
   "execution_count": 7,
   "metadata": {},
   "outputs": [
    {
     "ename": "SyntaxError",
     "evalue": "unexpected character after line continuation character (<ipython-input-7-f2c232c6fb28>, line 26)",
     "output_type": "error",
     "traceback": [
      "\u001b[1;36m  File \u001b[1;32m\"<ipython-input-7-f2c232c6fb28>\"\u001b[1;36m, line \u001b[1;32m26\u001b[0m\n\u001b[1;33m    important_corrs = (attrs[abs(attrs) > threshold][attrs != 1.0]) \\.unstack().dropna().to_dict()\u001b[0m\n\u001b[1;37m                                                                                                  ^\u001b[0m\n\u001b[1;31mSyntaxError\u001b[0m\u001b[1;31m:\u001b[0m unexpected character after line continuation character\n"
     ]
    }
   ],
   "source": [
    "import pandas as pd # conventional alias\n",
    "from sklearn.datasets import load_boston\n",
    "\n",
    "dataset = load_boston()\n",
    "df = pd.DataFrame(dataset.data, columns=dataset.feature_names)\n",
    "df['target'] = dataset.target\n",
    "instance_count, attr_count = df.shape\n",
    "df.describe()\n",
    "df.corr(method='pearson')\n",
    "#%timeit df.corr(method='pearson')\n",
    "#1000 loop, best of 3: 490 µs per loop\n",
    "#%timeit df.corr(method='spearman')\n",
    "#100 loop, best of 3: 8.2 ms per loop\n",
    "#%timeit df.corr(method='kendall')\n",
    "#1 loop, best of 3: 1.64 s per loop\n",
    "pearson = df.corr(method='pearson')\n",
    "# assume target attr is the last, then remove corr with itself\n",
    "corr_with_target = pearson.ix[-1][:-1]\n",
    "# attributes sorted from the most predictive\n",
    "predictivity = corr_with_target.sort(ascending=False)\n",
    "#corr_with_target[abs(corr_with_target).argsort()[::-1]]\n",
    "#attrs = pearson.iloc[:-1,:-1] # all except target\n",
    "## only important correlations and not auto-correlations\n",
    "#threshold = 0.5\n",
    "## {('LSTAT', 'TAX'): 0.543993, ('INDUS', 'RAD'): 0.595129, ...\n",
    "#important_corrs = (attrs[abs(attrs) > threshold][attrs != 1.0]) \\.unstack().dropna().to_dict()\n",
    "##     attribute pair  correlation\n",
    "# #0     (AGE, INDUS)     0.644779\n",
    "# #1     (INDUS, RAD)     0.595129\n",
    "# #...\n",
    "#unique_important_corrs = pd.DataFrame(\n",
    " #   list(set([(tuple(sorted(key)), important_corrs[key]) \\\n",
    "  #  for key in important_corrs])), columns=['attribute pair', 'correlation'])\n",
    "# #sorted by absolute value\n",
    "#unique_important_corrs = unique_important_corrs.ix[\n",
    " #   abs(unique_important_corrs['correlation']).argsort()[::-1]]"
   ]
  }
 ],
 "metadata": {
  "kernelspec": {
   "display_name": "Python 3",
   "language": "python",
   "name": "python3"
  },
  "language_info": {
   "codemirror_mode": {
    "name": "ipython",
    "version": 3
   },
   "file_extension": ".py",
   "mimetype": "text/x-python",
   "name": "python",
   "nbconvert_exporter": "python",
   "pygments_lexer": "ipython3",
   "version": "3.7.1"
  }
 },
 "nbformat": 4,
 "nbformat_minor": 2
}
