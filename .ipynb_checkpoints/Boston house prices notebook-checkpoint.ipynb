{
 "cells": [
  {
   "cell_type": "markdown",
   "metadata": {},
   "source": [
    "# *The Boston House Price Index.*\n",
    "\n",
    "This project applies machine learning concepts on *The Boston House Price Index Dataset*, Massachusetts to predict the selling price of a new home.\n",
    "\n",
    "### What is the Boston House price Index dataset?\n",
    "\n",
    "The Boston House Price Index is a well known dataset containing information collected by the U.S Census Service about housing in the area of Boston Massitusis. It was obtained from the StatLib archive (http://lib.stat.cmu.edu/datasets/boston), and has been used extensively to benchmak algorithms throughout the literature. The dataset is small in size with only 506 cases in total.\n",
    "\n",
    "The Boston Housing Dataset consists of price of houses in various places in Boston. Alongside with price, the dataset also provide information such as Crime (CRIM), areas of non-retail business in the town (INDUS), the age of people who own the house (AGE).\n",
    "\n",
    "The data was originally published by Harrison, D. and Rubinfeld, D.L. *`Hedonic prices and the demand for clean air'*, J. Environ. Economics & Management, vol.5, 81-102, 1978.\n",
    "\n",
    "#### The Dataset is divided into 14 categories as follows: \n",
    "\n",
    "- CRIM - crime rate by town per capita\n",
    "- ZN - proportion of residential land zoned for lots over 25,000 sq.ft.\n",
    "- INDUS - proportion of non-retail business acres per town.\n",
    "- CHAS - Charles River dummy variable (1 if tract bounds river; 0 otherwise).\n",
    "- NOX - nitric oxides concentration (parts per 10 million).\n",
    "- RM - average number of rooms per dwelling.\n",
    "- AGE - proportion of owner-occupied units built prior to 1940.\n",
    "- DIS - weighted distances to five Boston employment centres.\n",
    "- RAD - index of accessibility to radial highways.\n",
    "- PTRATIO - pupil-teacher ratio by town.\n",
    "- TAX - full-value property-tax rate per $10,000.\n",
    "\n",
    "- PTRATIO - pupil-teacher ratio by town.\n",
    "- B - 1000(Bk - 0.63)^2 where Bk is the proportion of blacks by town.\n",
    "- LSTAT - % lower status of the population.\n",
    "- MEDV - Median value of owner-occupied homes in $1000's.\n",
    "\n",
    "# The aim\n",
    "\n",
    "Whithin this project the aim is to complete the following:\n",
    "1. Utilise descriptive stasistics and plots to describe the dataset.\n",
    "2. Utilise inferential statistics to analyse the differences in median house prices between homes along the Charles River and those not.\n",
    "3. Utilise keras to create a neural network to predict median house prices based on the other variables in the dataset.\n",
    "\n",
    "\n",
    "# Software and Libraries\n",
    "\n",
    "This project uses the following software and Python libraries:\n",
    "\n",
    "Access was made through the cmd interface, where on completion of the notebook was then commitet and pushed into Git repository.\n",
    "\n",
    "1. Python 3\n",
    "2. NumPy\n",
    "3. pandas\n",
    "4. matplotlib\n",
    "5. scikit-learn\n"
   ]
  }
 ],
 "metadata": {
  "kernelspec": {
   "display_name": "Python 3",
   "language": "python",
   "name": "python3"
  },
  "language_info": {
   "codemirror_mode": {
    "name": "ipython",
    "version": 3
   },
   "file_extension": ".py",
   "mimetype": "text/x-python",
   "name": "python",
   "nbconvert_exporter": "python",
   "pygments_lexer": "ipython3",
   "version": "3.7.1"
  }
 },
 "nbformat": 4,
 "nbformat_minor": 2
}
