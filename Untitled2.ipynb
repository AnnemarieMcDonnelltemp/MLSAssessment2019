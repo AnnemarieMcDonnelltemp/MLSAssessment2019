{
 "cells": [
  {
   "cell_type": "markdown",
   "metadata": {},
   "source": [
    "##### Exploring and Processing the Data\n",
    "##### Building and Training our Neural Network\n",
    "##### Visualizing Loss and Accuracy\n",
    "##### Adding Regularization to our Neural Network\n",
    "\n",
    "### Exploring and Processing the Data\n",
    "\n",
    "Before we code any ML algorithm, the first thing we need to do is to put our data in a format that the algorithm will want. In particular, we need to:\n",
    "\n",
    "###### Read in the CSV (comma separated values) file and convert them to arrays. Arrays are a data format that our algorithm can process.\n",
    "###### Split our dataset into the input features (which we call x) and the label (which we call y).\n",
    "###### Scale the data (we call this normalization) so that the input features have similar orders of magnitude.\n",
    "###### Split our dataset into the training set, the validation set and the test set."
   ]
  },
  {
   "cell_type": "markdown",
   "metadata": {},
   "source": [
    "### Import the data."
   ]
  },
  {
   "cell_type": "code",
   "execution_count": 613,
   "metadata": {},
   "outputs": [],
   "source": [
    "# library needed\n",
    "import pandas as pd"
   ]
  },
  {
   "cell_type": "code",
   "execution_count": 614,
   "metadata": {},
   "outputs": [
    {
     "data": {
      "text/plain": [
       "sklearn.utils.Bunch"
      ]
     },
     "execution_count": 614,
     "metadata": {},
     "output_type": "execute_result"
    }
   ],
   "source": [
    "#df = pd.read_csv('house.csv')\n",
    "import sklearn \n",
    "from sklearn import datasets\n",
    "boston=datasets.load_boston()\n",
    "type (boston)"
   ]
  },
  {
   "cell_type": "code",
   "execution_count": 615,
   "metadata": {},
   "outputs": [
    {
     "data": {
      "text/plain": [
       "tax        0\n",
       "ptratio    0\n",
       "b          0\n",
       "lstat      0\n",
       "medv       0\n",
       "dtype: int64"
      ]
     },
     "execution_count": 615,
     "metadata": {},
     "output_type": "execute_result"
    }
   ],
   "source": [
    "df.isnull().sum()"
   ]
  },
  {
   "cell_type": "code",
   "execution_count": 616,
   "metadata": {},
   "outputs": [
    {
     "data": {
      "text/html": [
       "<div>\n",
       "<style scoped>\n",
       "    .dataframe tbody tr th:only-of-type {\n",
       "        vertical-align: middle;\n",
       "    }\n",
       "\n",
       "    .dataframe tbody tr th {\n",
       "        vertical-align: top;\n",
       "    }\n",
       "\n",
       "    .dataframe thead th {\n",
       "        text-align: right;\n",
       "    }\n",
       "</style>\n",
       "<table border=\"1\" class=\"dataframe\">\n",
       "  <thead>\n",
       "    <tr style=\"text-align: right;\">\n",
       "      <th></th>\n",
       "      <th>tax</th>\n",
       "      <th>ptratio</th>\n",
       "      <th>b</th>\n",
       "      <th>lstat</th>\n",
       "      <th>medv</th>\n",
       "    </tr>\n",
       "  </thead>\n",
       "  <tbody>\n",
       "    <tr>\n",
       "      <th>0</th>\n",
       "      <td>296</td>\n",
       "      <td>15.3</td>\n",
       "      <td>396.90</td>\n",
       "      <td>4.98</td>\n",
       "      <td>24.0</td>\n",
       "    </tr>\n",
       "    <tr>\n",
       "      <th>1</th>\n",
       "      <td>242</td>\n",
       "      <td>17.8</td>\n",
       "      <td>396.90</td>\n",
       "      <td>9.14</td>\n",
       "      <td>21.6</td>\n",
       "    </tr>\n",
       "    <tr>\n",
       "      <th>2</th>\n",
       "      <td>242</td>\n",
       "      <td>17.8</td>\n",
       "      <td>392.83</td>\n",
       "      <td>4.03</td>\n",
       "      <td>34.7</td>\n",
       "    </tr>\n",
       "    <tr>\n",
       "      <th>3</th>\n",
       "      <td>222</td>\n",
       "      <td>18.7</td>\n",
       "      <td>394.63</td>\n",
       "      <td>2.94</td>\n",
       "      <td>33.4</td>\n",
       "    </tr>\n",
       "    <tr>\n",
       "      <th>4</th>\n",
       "      <td>222</td>\n",
       "      <td>18.7</td>\n",
       "      <td>396.90</td>\n",
       "      <td>5.33</td>\n",
       "      <td>36.2</td>\n",
       "    </tr>\n",
       "    <tr>\n",
       "      <th>...</th>\n",
       "      <td>...</td>\n",
       "      <td>...</td>\n",
       "      <td>...</td>\n",
       "      <td>...</td>\n",
       "      <td>...</td>\n",
       "    </tr>\n",
       "    <tr>\n",
       "      <th>501</th>\n",
       "      <td>273</td>\n",
       "      <td>21.0</td>\n",
       "      <td>391.99</td>\n",
       "      <td>9.67</td>\n",
       "      <td>22.4</td>\n",
       "    </tr>\n",
       "    <tr>\n",
       "      <th>502</th>\n",
       "      <td>273</td>\n",
       "      <td>21.0</td>\n",
       "      <td>396.90</td>\n",
       "      <td>9.08</td>\n",
       "      <td>20.6</td>\n",
       "    </tr>\n",
       "    <tr>\n",
       "      <th>503</th>\n",
       "      <td>273</td>\n",
       "      <td>21.0</td>\n",
       "      <td>396.90</td>\n",
       "      <td>5.64</td>\n",
       "      <td>23.9</td>\n",
       "    </tr>\n",
       "    <tr>\n",
       "      <th>504</th>\n",
       "      <td>273</td>\n",
       "      <td>21.0</td>\n",
       "      <td>393.45</td>\n",
       "      <td>6.48</td>\n",
       "      <td>22.0</td>\n",
       "    </tr>\n",
       "    <tr>\n",
       "      <th>505</th>\n",
       "      <td>273</td>\n",
       "      <td>21.0</td>\n",
       "      <td>396.90</td>\n",
       "      <td>7.88</td>\n",
       "      <td>11.9</td>\n",
       "    </tr>\n",
       "  </tbody>\n",
       "</table>\n",
       "<p>506 rows × 5 columns</p>\n",
       "</div>"
      ],
      "text/plain": [
       "     tax  ptratio       b  lstat  medv\n",
       "0    296     15.3  396.90   4.98  24.0\n",
       "1    242     17.8  396.90   9.14  21.6\n",
       "2    242     17.8  392.83   4.03  34.7\n",
       "3    222     18.7  394.63   2.94  33.4\n",
       "4    222     18.7  396.90   5.33  36.2\n",
       "..   ...      ...     ...    ...   ...\n",
       "501  273     21.0  391.99   9.67  22.4\n",
       "502  273     21.0  396.90   9.08  20.6\n",
       "503  273     21.0  396.90   5.64  23.9\n",
       "504  273     21.0  393.45   6.48  22.0\n",
       "505  273     21.0  396.90   7.88  11.9\n",
       "\n",
       "[506 rows x 5 columns]"
      ]
     },
     "execution_count": 616,
     "metadata": {},
     "output_type": "execute_result"
    }
   ],
   "source": [
    "df # ptints out the dataset in a nice format."
   ]
  },
  {
   "cell_type": "markdown",
   "metadata": {},
   "source": [
    "# convert it into arrays for our machine to process:"
   ]
  },
  {
   "cell_type": "code",
   "execution_count": 617,
   "metadata": {},
   "outputs": [],
   "source": [
    "dataset = df.values"
   ]
  },
  {
   "cell_type": "code",
   "execution_count": 618,
   "metadata": {},
   "outputs": [
    {
     "data": {
      "text/plain": [
       "array([[296.  ,  15.3 , 396.9 ,   4.98,  24.  ],\n",
       "       [242.  ,  17.8 , 396.9 ,   9.14,  21.6 ],\n",
       "       [242.  ,  17.8 , 392.83,   4.03,  34.7 ],\n",
       "       ...,\n",
       "       [273.  ,  21.  , 396.9 ,   5.64,  23.9 ],\n",
       "       [273.  ,  21.  , 393.45,   6.48,  22.  ],\n",
       "       [273.  ,  21.  , 396.9 ,   7.88,  11.9 ]])"
      ]
     },
     "execution_count": 618,
     "metadata": {},
     "output_type": "execute_result"
    }
   ],
   "source": [
    "dataset"
   ]
  },
  {
   "cell_type": "markdown",
   "metadata": {},
   "source": [
    "We now split our dataset into input features (X) and the feature we wish to predict (Y). To do that split, we simply assign the first 10 columns of our array to a variable called X and the last column of our array to a variable called Y.\n",
    "\n",
    "the next step in our processing is to make sure that the scale of the input features are similar.\n",
    "One way to scale the data is to use an existing package from scikit-learn."
   ]
  },
  {
   "cell_type": "code",
   "execution_count": 619,
   "metadata": {},
   "outputs": [],
   "source": [
    "X = dataset[:,0:20]"
   ]
  },
  {
   "cell_type": "code",
   "execution_count": 620,
   "metadata": {},
   "outputs": [],
   "source": [
    "Y = dataset[:,4]"
   ]
  },
  {
   "cell_type": "code",
   "execution_count": 621,
   "metadata": {},
   "outputs": [],
   "source": [
    "from sklearn import preprocessing"
   ]
  },
  {
   "cell_type": "code",
   "execution_count": 622,
   "metadata": {},
   "outputs": [],
   "source": [
    "min_max_scaler = preprocessing.MinMaxScaler()\n",
    "X_scale = min_max_scaler.fit_transform(X)\n"
   ]
  },
  {
   "cell_type": "code",
   "execution_count": 623,
   "metadata": {},
   "outputs": [
    {
     "data": {
      "text/plain": [
       "array([[0.20801527, 0.28723404, 1.        , 0.08967991, 0.42222222],\n",
       "       [0.10496183, 0.55319149, 1.        , 0.2044702 , 0.36888889],\n",
       "       [0.10496183, 0.55319149, 0.98973725, 0.06346578, 0.66      ],\n",
       "       ...,\n",
       "       [0.16412214, 0.89361702, 1.        , 0.10789183, 0.42      ],\n",
       "       [0.16412214, 0.89361702, 0.99130062, 0.13107064, 0.37777778],\n",
       "       [0.16412214, 0.89361702, 1.        , 0.16970199, 0.15333333]])"
      ]
     },
     "execution_count": 623,
     "metadata": {},
     "output_type": "execute_result"
    }
   ],
   "source": [
    "X_scale #scaled dataset is stored in the array ‘X_scale’. to see what ‘X_scale’ looks like"
   ]
  },
  {
   "cell_type": "markdown",
   "metadata": {},
   "source": [
    "to split our dataset into a training set, a validation set and a test set.\n",
    "\n",
    "We will use the code from scikit-learn called ‘train_test_split’, which as the name suggests, split our dataset into a training set and a test set. "
   ]
  },
  {
   "cell_type": "code",
   "execution_count": 624,
   "metadata": {},
   "outputs": [],
   "source": [
    "from sklearn.model_selection import train_test_split"
   ]
  },
  {
   "cell_type": "code",
   "execution_count": 625,
   "metadata": {},
   "outputs": [],
   "source": [
    "X_train, X_val_and_test, Y_train, Y_val_and_test = train_test_split(X_scale, Y, test_size=0.5) # split your dataset\n"
   ]
  },
  {
   "cell_type": "code",
   "execution_count": 626,
   "metadata": {},
   "outputs": [],
   "source": [
    "X_val, X_test, Y_val, Y_test = train_test_split(X_val_and_test, Y_val_and_test, test_size=0.5)"
   ]
  },
  {
   "cell_type": "code",
   "execution_count": 627,
   "metadata": {},
   "outputs": [
    {
     "name": "stdout",
     "output_type": "stream",
     "text": [
      "(253, 5) (126, 5) (127, 5) (253,) (126,) (127,)\n"
     ]
    }
   ],
   "source": [
    "print(X_train.shape, X_val.shape, X_test.shape, Y_train.shape, Y_val.shape, Y_test.shape)"
   ]
  },
  {
   "cell_type": "markdown",
   "metadata": {},
   "source": [
    "the training set has 354 data points while the validation and test set has 126 data points each. The X variables have 5 input features, while the Y variables only has one feature to predict."
   ]
  },
  {
   "cell_type": "markdown",
   "metadata": {},
   "source": [
    "## Setting up the Architecture\n",
    "\n",
    "The first thing to do is to set up the architecture. \n",
    "\n",
    "Hidden layer 1: 32 neurons, ReLU activation\n",
    "Hidden layer 2: 32 neurons, ReLU activation\n",
    "Output Layer: 1 neuron, Sigmoid activation\n",
    "\n",
    "Then describe this architecture to Keras using the Sequential model. it is important to describe the layers in sequence.\n",
    "\n",
    "First, let’s import the necessary code from Keras:"
   ]
  },
  {
   "cell_type": "code",
   "execution_count": 628,
   "metadata": {},
   "outputs": [],
   "source": [
    "#import the necessary code from Keras:\n",
    "from keras.models import Sequential\n",
    "from keras.layers import Dense"
   ]
  },
  {
   "cell_type": "markdown",
   "metadata": {},
   "source": [
    "specify that in our Keras sequential model like this:\n",
    "\n",
    "\n",
    "The model will be stored as a variable ‘model’, and be described layer by layer  between square brackets.\n",
    "\n",
    "The first layer is a dense layer with 32 neurons, ReLU activation and the input shape is 10 because there are 10 input features. Note that ‘Dense’ refers to a fully-connected layer, which is what we will be using.\n",
    "\n",
    "Dense(32, activation='relu'),\n",
    "\n",
    "The second layer is also a dense layer with 32 neurons, ReLU activation. Keras infers from the output of our first layer so no input needed.\n",
    "\n",
    "The third layer is a dense layer with 1 neuron, sigmoid activation.\n"
   ]
  },
  {
   "cell_type": "code",
   "execution_count": 629,
   "metadata": {},
   "outputs": [],
   "source": [
    "\n",
    "model = Sequential([\n",
    "    Dense(32, activation='relu', input_shape=(5,)),# 1st layer\n",
    "    Dense(32, activation='relu'), # 2nd layer\n",
    "    Dense(1, activation='sigmoid'), #3rd layer\n",
    "])"
   ]
  },
  {
   "cell_type": "markdown",
   "metadata": {},
   "source": [
    "Filling in the best numbers\n",
    "\n",
    "configure the model by  telling it:\n",
    "\n",
    "* which algorithm you want to use to do the optimization\n",
    "* what loss function to use\n",
    "* what other metrics you want to track apart from the loss function\n",
    "\n",
    "\n",
    "‘sgd’ refers to stochastic gradient descent \n",
    "\n",
    "The loss function for outputs that take the values 1 or 0 is called binary cross entropy.\n",
    "\n",
    "Track accuracy on top of the loss function. \n",
    "\n",
    "Training on the data is pretty straightforward and requires the data to fit the parameters of the data. We have to specify what data we are training referred to as  X_train and Y_train. The size of our mini-batch and duration of training time (epochs) is specified. Lastly, we specify what our validation data is at each point. "
   ]
  },
  {
   "cell_type": "code",
   "execution_count": 630,
   "metadata": {},
   "outputs": [],
   "source": [
    "\n",
    "model.compile(optimizer='sgd',\n",
    "              loss='binary_crossentropy',\n",
    "              metrics=['accuracy'])"
   ]
  },
  {
   "cell_type": "code",
   "execution_count": 631,
   "metadata": {},
   "outputs": [
    {
     "name": "stdout",
     "output_type": "stream",
     "text": [
      "Train on 253 samples, validate on 126 samples\n",
      "Epoch 1/100\n",
      "253/253 [==============================] - 1s 2ms/step - loss: -7219.2452 - accuracy: 0.0000e+00 - val_loss: -7248157.1587 - val_accuracy: 0.0000e+00\n",
      "Epoch 2/100\n",
      "253/253 [==============================] - 0s 142us/step - loss: nan - accuracy: 0.0000e+00 - val_loss: nan - val_accuracy: 0.0000e+00\n",
      "Epoch 3/100\n",
      "253/253 [==============================] - 0s 122us/step - loss: nan - accuracy: 0.0000e+00 - val_loss: nan - val_accuracy: 0.0000e+00\n",
      "Epoch 4/100\n",
      "253/253 [==============================] - 0s 130us/step - loss: nan - accuracy: 0.0000e+00 - val_loss: nan - val_accuracy: 0.0000e+00\n",
      "Epoch 5/100\n",
      "253/253 [==============================] - 0s 130us/step - loss: nan - accuracy: 0.0000e+00 - val_loss: nan - val_accuracy: 0.0000e+00\n",
      "Epoch 6/100\n",
      "253/253 [==============================] - 0s 111us/step - loss: nan - accuracy: 0.0000e+00 - val_loss: nan - val_accuracy: 0.0000e+00\n",
      "Epoch 7/100\n",
      "253/253 [==============================] - 0s 122us/step - loss: nan - accuracy: 0.0000e+00 - val_loss: nan - val_accuracy: 0.0000e+00\n",
      "Epoch 8/100\n",
      "253/253 [==============================] - 0s 107us/step - loss: nan - accuracy: 0.0000e+00 - val_loss: nan - val_accuracy: 0.0000e+00\n",
      "Epoch 9/100\n",
      "253/253 [==============================] - 0s 134us/step - loss: nan - accuracy: 0.0000e+00 - val_loss: nan - val_accuracy: 0.0000e+00\n",
      "Epoch 10/100\n",
      "253/253 [==============================] - 0s 126us/step - loss: nan - accuracy: 0.0000e+00 - val_loss: nan - val_accuracy: 0.0000e+00\n",
      "Epoch 11/100\n",
      "253/253 [==============================] - 0s 107us/step - loss: nan - accuracy: 0.0000e+00 - val_loss: nan - val_accuracy: 0.0000e+00\n",
      "Epoch 12/100\n",
      "253/253 [==============================] - 0s 115us/step - loss: nan - accuracy: 0.0000e+00 - val_loss: nan - val_accuracy: 0.0000e+00\n",
      "Epoch 13/100\n",
      "253/253 [==============================] - 0s 111us/step - loss: nan - accuracy: 0.0000e+00 - val_loss: nan - val_accuracy: 0.0000e+00\n",
      "Epoch 14/100\n",
      "253/253 [==============================] - 0s 107us/step - loss: nan - accuracy: 0.0000e+00 - val_loss: nan - val_accuracy: 0.0000e+00\n",
      "Epoch 15/100\n",
      "253/253 [==============================] - 0s 115us/step - loss: nan - accuracy: 0.0000e+00 - val_loss: nan - val_accuracy: 0.0000e+00\n",
      "Epoch 16/100\n",
      "253/253 [==============================] - 0s 111us/step - loss: nan - accuracy: 0.0000e+00 - val_loss: nan - val_accuracy: 0.0000e+00\n",
      "Epoch 17/100\n",
      "253/253 [==============================] - 0s 126us/step - loss: nan - accuracy: 0.0000e+00 - val_loss: nan - val_accuracy: 0.0000e+00\n",
      "Epoch 18/100\n",
      "253/253 [==============================] - 0s 107us/step - loss: nan - accuracy: 0.0000e+00 - val_loss: nan - val_accuracy: 0.0000e+00\n",
      "Epoch 19/100\n",
      "253/253 [==============================] - 0s 119us/step - loss: nan - accuracy: 0.0000e+00 - val_loss: nan - val_accuracy: 0.0000e+00\n",
      "Epoch 20/100\n",
      "253/253 [==============================] - 0s 111us/step - loss: nan - accuracy: 0.0000e+00 - val_loss: nan - val_accuracy: 0.0000e+00\n",
      "Epoch 21/100\n",
      "253/253 [==============================] - 0s 119us/step - loss: nan - accuracy: 0.0000e+00 - val_loss: nan - val_accuracy: 0.0000e+00\n",
      "Epoch 22/100\n",
      "253/253 [==============================] - 0s 126us/step - loss: nan - accuracy: 0.0000e+00 - val_loss: nan - val_accuracy: 0.0000e+00\n",
      "Epoch 23/100\n",
      "253/253 [==============================] - 0s 126us/step - loss: nan - accuracy: 0.0000e+00 - val_loss: nan - val_accuracy: 0.0000e+00\n",
      "Epoch 24/100\n",
      "253/253 [==============================] - 0s 115us/step - loss: nan - accuracy: 0.0000e+00 - val_loss: nan - val_accuracy: 0.0000e+00\n",
      "Epoch 25/100\n",
      "253/253 [==============================] - 0s 115us/step - loss: nan - accuracy: 0.0000e+00 - val_loss: nan - val_accuracy: 0.0000e+00\n",
      "Epoch 26/100\n",
      "253/253 [==============================] - 0s 122us/step - loss: nan - accuracy: 0.0000e+00 - val_loss: nan - val_accuracy: 0.0000e+00\n",
      "Epoch 27/100\n",
      "253/253 [==============================] - 0s 122us/step - loss: nan - accuracy: 0.0000e+00 - val_loss: nan - val_accuracy: 0.0000e+00\n",
      "Epoch 28/100\n",
      "253/253 [==============================] - 0s 119us/step - loss: nan - accuracy: 0.0000e+00 - val_loss: nan - val_accuracy: 0.0000e+00\n",
      "Epoch 29/100\n",
      "253/253 [==============================] - 0s 134us/step - loss: nan - accuracy: 0.0000e+00 - val_loss: nan - val_accuracy: 0.0000e+00\n",
      "Epoch 30/100\n",
      "253/253 [==============================] - 0s 126us/step - loss: nan - accuracy: 0.0000e+00 - val_loss: nan - val_accuracy: 0.0000e+00\n",
      "Epoch 31/100\n",
      "253/253 [==============================] - 0s 126us/step - loss: nan - accuracy: 0.0000e+00 - val_loss: nan - val_accuracy: 0.0000e+00\n",
      "Epoch 32/100\n",
      "253/253 [==============================] - 0s 123us/step - loss: nan - accuracy: 0.0000e+00 - val_loss: nan - val_accuracy: 0.0000e+00\n",
      "Epoch 33/100\n",
      "253/253 [==============================] - 0s 107us/step - loss: nan - accuracy: 0.0000e+00 - val_loss: nan - val_accuracy: 0.0000e+00\n",
      "Epoch 34/100\n",
      "253/253 [==============================] - 0s 115us/step - loss: nan - accuracy: 0.0000e+00 - val_loss: nan - val_accuracy: 0.0000e+00\n",
      "Epoch 35/100\n",
      "253/253 [==============================] - 0s 115us/step - loss: nan - accuracy: 0.0000e+00 - val_loss: nan - val_accuracy: 0.0000e+00\n",
      "Epoch 36/100\n",
      "253/253 [==============================] - 0s 111us/step - loss: nan - accuracy: 0.0000e+00 - val_loss: nan - val_accuracy: 0.0000e+00\n",
      "Epoch 37/100\n",
      "253/253 [==============================] - 0s 107us/step - loss: nan - accuracy: 0.0000e+00 - val_loss: nan - val_accuracy: 0.0000e+00\n",
      "Epoch 38/100\n",
      "253/253 [==============================] - 0s 119us/step - loss: nan - accuracy: 0.0000e+00 - val_loss: nan - val_accuracy: 0.0000e+00\n",
      "Epoch 39/100\n",
      "253/253 [==============================] - 0s 115us/step - loss: nan - accuracy: 0.0000e+00 - val_loss: nan - val_accuracy: 0.0000e+00\n",
      "Epoch 40/100\n",
      "253/253 [==============================] - 0s 95us/step - loss: nan - accuracy: 0.0000e+00 - val_loss: nan - val_accuracy: 0.0000e+00\n",
      "Epoch 41/100\n",
      "253/253 [==============================] - 0s 95us/step - loss: nan - accuracy: 0.0000e+00 - val_loss: nan - val_accuracy: 0.0000e+00\n",
      "Epoch 42/100\n",
      "253/253 [==============================] - 0s 103us/step - loss: nan - accuracy: 0.0000e+00 - val_loss: nan - val_accuracy: 0.0000e+00\n",
      "Epoch 43/100\n",
      "253/253 [==============================] - 0s 103us/step - loss: nan - accuracy: 0.0000e+00 - val_loss: nan - val_accuracy: 0.0000e+00\n",
      "Epoch 44/100\n",
      "253/253 [==============================] - 0s 103us/step - loss: nan - accuracy: 0.0000e+00 - val_loss: nan - val_accuracy: 0.0000e+00\n",
      "Epoch 45/100\n",
      "253/253 [==============================] - 0s 99us/step - loss: nan - accuracy: 0.0000e+00 - val_loss: nan - val_accuracy: 0.0000e+00\n",
      "Epoch 46/100\n",
      "253/253 [==============================] - 0s 103us/step - loss: nan - accuracy: 0.0000e+00 - val_loss: nan - val_accuracy: 0.0000e+00\n",
      "Epoch 47/100\n",
      "253/253 [==============================] - 0s 115us/step - loss: nan - accuracy: 0.0000e+00 - val_loss: nan - val_accuracy: 0.0000e+00\n",
      "Epoch 48/100\n",
      "253/253 [==============================] - 0s 111us/step - loss: nan - accuracy: 0.0000e+00 - val_loss: nan - val_accuracy: 0.0000e+00\n",
      "Epoch 49/100\n",
      "253/253 [==============================] - 0s 99us/step - loss: nan - accuracy: 0.0000e+00 - val_loss: nan - val_accuracy: 0.0000e+00\n",
      "Epoch 50/100\n",
      "253/253 [==============================] - 0s 95us/step - loss: nan - accuracy: 0.0000e+00 - val_loss: nan - val_accuracy: 0.0000e+00\n",
      "Epoch 51/100\n",
      "253/253 [==============================] - 0s 107us/step - loss: nan - accuracy: 0.0000e+00 - val_loss: nan - val_accuracy: 0.0000e+00\n",
      "Epoch 52/100\n",
      "253/253 [==============================] - 0s 111us/step - loss: nan - accuracy: 0.0000e+00 - val_loss: nan - val_accuracy: 0.0000e+00\n",
      "Epoch 53/100\n",
      "253/253 [==============================] - 0s 103us/step - loss: nan - accuracy: 0.0000e+00 - val_loss: nan - val_accuracy: 0.0000e+00\n",
      "Epoch 54/100\n",
      "253/253 [==============================] - 0s 107us/step - loss: nan - accuracy: 0.0000e+00 - val_loss: nan - val_accuracy: 0.0000e+00\n",
      "Epoch 55/100\n",
      "253/253 [==============================] - 0s 99us/step - loss: nan - accuracy: 0.0000e+00 - val_loss: nan - val_accuracy: 0.0000e+00\n",
      "Epoch 56/100\n"
     ]
    },
    {
     "name": "stdout",
     "output_type": "stream",
     "text": [
      "253/253 [==============================] - 0s 107us/step - loss: nan - accuracy: 0.0000e+00 - val_loss: nan - val_accuracy: 0.0000e+00\n",
      "Epoch 57/100\n",
      "253/253 [==============================] - 0s 107us/step - loss: nan - accuracy: 0.0000e+00 - val_loss: nan - val_accuracy: 0.0000e+00\n",
      "Epoch 58/100\n",
      "253/253 [==============================] - 0s 95us/step - loss: nan - accuracy: 0.0000e+00 - val_loss: nan - val_accuracy: 0.0000e+00\n",
      "Epoch 59/100\n",
      "253/253 [==============================] - 0s 99us/step - loss: nan - accuracy: 0.0000e+00 - val_loss: nan - val_accuracy: 0.0000e+00\n",
      "Epoch 60/100\n",
      "253/253 [==============================] - 0s 99us/step - loss: nan - accuracy: 0.0000e+00 - val_loss: nan - val_accuracy: 0.0000e+00\n",
      "Epoch 61/100\n",
      "253/253 [==============================] - 0s 99us/step - loss: nan - accuracy: 0.0000e+00 - val_loss: nan - val_accuracy: 0.0000e+00\n",
      "Epoch 62/100\n",
      "253/253 [==============================] - 0s 103us/step - loss: nan - accuracy: 0.0000e+00 - val_loss: nan - val_accuracy: 0.0000e+00\n",
      "Epoch 63/100\n",
      "253/253 [==============================] - 0s 99us/step - loss: nan - accuracy: 0.0000e+00 - val_loss: nan - val_accuracy: 0.0000e+00\n",
      "Epoch 64/100\n",
      "253/253 [==============================] - 0s 99us/step - loss: nan - accuracy: 0.0000e+00 - val_loss: nan - val_accuracy: 0.0000e+00\n",
      "Epoch 65/100\n",
      "253/253 [==============================] - 0s 95us/step - loss: nan - accuracy: 0.0000e+00 - val_loss: nan - val_accuracy: 0.0000e+00\n",
      "Epoch 66/100\n",
      "253/253 [==============================] - 0s 99us/step - loss: nan - accuracy: 0.0000e+00 - val_loss: nan - val_accuracy: 0.0000e+00\n",
      "Epoch 67/100\n",
      "253/253 [==============================] - 0s 107us/step - loss: nan - accuracy: 0.0000e+00 - val_loss: nan - val_accuracy: 0.0000e+00\n",
      "Epoch 68/100\n",
      "253/253 [==============================] - 0s 103us/step - loss: nan - accuracy: 0.0000e+00 - val_loss: nan - val_accuracy: 0.0000e+00\n",
      "Epoch 69/100\n",
      "253/253 [==============================] - 0s 103us/step - loss: nan - accuracy: 0.0000e+00 - val_loss: nan - val_accuracy: 0.0000e+00\n",
      "Epoch 70/100\n",
      "253/253 [==============================] - 0s 91us/step - loss: nan - accuracy: 0.0000e+00 - val_loss: nan - val_accuracy: 0.0000e+00\n",
      "Epoch 71/100\n",
      "253/253 [==============================] - 0s 95us/step - loss: nan - accuracy: 0.0000e+00 - val_loss: nan - val_accuracy: 0.0000e+00\n",
      "Epoch 72/100\n",
      "253/253 [==============================] - 0s 99us/step - loss: nan - accuracy: 0.0000e+00 - val_loss: nan - val_accuracy: 0.0000e+00\n",
      "Epoch 73/100\n",
      "253/253 [==============================] - 0s 95us/step - loss: nan - accuracy: 0.0000e+00 - val_loss: nan - val_accuracy: 0.0000e+00\n",
      "Epoch 74/100\n",
      "253/253 [==============================] - 0s 107us/step - loss: nan - accuracy: 0.0000e+00 - val_loss: nan - val_accuracy: 0.0000e+00\n",
      "Epoch 75/100\n",
      "253/253 [==============================] - 0s 107us/step - loss: nan - accuracy: 0.0000e+00 - val_loss: nan - val_accuracy: 0.0000e+00\n",
      "Epoch 76/100\n",
      "253/253 [==============================] - 0s 95us/step - loss: nan - accuracy: 0.0000e+00 - val_loss: nan - val_accuracy: 0.0000e+00\n",
      "Epoch 77/100\n",
      "253/253 [==============================] - 0s 99us/step - loss: nan - accuracy: 0.0000e+00 - val_loss: nan - val_accuracy: 0.0000e+00\n",
      "Epoch 78/100\n",
      "253/253 [==============================] - 0s 103us/step - loss: nan - accuracy: 0.0000e+00 - val_loss: nan - val_accuracy: 0.0000e+00\n",
      "Epoch 79/100\n",
      "253/253 [==============================] - 0s 103us/step - loss: nan - accuracy: 0.0000e+00 - val_loss: nan - val_accuracy: 0.0000e+00\n",
      "Epoch 80/100\n",
      "253/253 [==============================] - 0s 99us/step - loss: nan - accuracy: 0.0000e+00 - val_loss: nan - val_accuracy: 0.0000e+00\n",
      "Epoch 81/100\n",
      "253/253 [==============================] - 0s 103us/step - loss: nan - accuracy: 0.0000e+00 - val_loss: nan - val_accuracy: 0.0000e+00\n",
      "Epoch 82/100\n",
      "253/253 [==============================] - 0s 107us/step - loss: nan - accuracy: 0.0000e+00 - val_loss: nan - val_accuracy: 0.0000e+00\n",
      "Epoch 83/100\n",
      "253/253 [==============================] - 0s 103us/step - loss: nan - accuracy: 0.0000e+00 - val_loss: nan - val_accuracy: 0.0000e+00\n",
      "Epoch 84/100\n",
      "253/253 [==============================] - 0s 99us/step - loss: nan - accuracy: 0.0000e+00 - val_loss: nan - val_accuracy: 0.0000e+00\n",
      "Epoch 85/100\n",
      "253/253 [==============================] - 0s 99us/step - loss: nan - accuracy: 0.0000e+00 - val_loss: nan - val_accuracy: 0.0000e+00\n",
      "Epoch 86/100\n",
      "253/253 [==============================] - 0s 103us/step - loss: nan - accuracy: 0.0000e+00 - val_loss: nan - val_accuracy: 0.0000e+00\n",
      "Epoch 87/100\n",
      "253/253 [==============================] - 0s 111us/step - loss: nan - accuracy: 0.0000e+00 - val_loss: nan - val_accuracy: 0.0000e+00\n",
      "Epoch 88/100\n",
      "253/253 [==============================] - 0s 99us/step - loss: nan - accuracy: 0.0000e+00 - val_loss: nan - val_accuracy: 0.0000e+00\n",
      "Epoch 89/100\n",
      "253/253 [==============================] - 0s 103us/step - loss: nan - accuracy: 0.0000e+00 - val_loss: nan - val_accuracy: 0.0000e+00\n",
      "Epoch 90/100\n",
      "253/253 [==============================] - 0s 107us/step - loss: nan - accuracy: 0.0000e+00 - val_loss: nan - val_accuracy: 0.0000e+00\n",
      "Epoch 91/100\n",
      "253/253 [==============================] - 0s 107us/step - loss: nan - accuracy: 0.0000e+00 - val_loss: nan - val_accuracy: 0.0000e+00\n",
      "Epoch 92/100\n",
      "253/253 [==============================] - 0s 111us/step - loss: nan - accuracy: 0.0000e+00 - val_loss: nan - val_accuracy: 0.0000e+00\n",
      "Epoch 93/100\n",
      "253/253 [==============================] - 0s 99us/step - loss: nan - accuracy: 0.0000e+00 - val_loss: nan - val_accuracy: 0.0000e+00\n",
      "Epoch 94/100\n",
      "253/253 [==============================] - 0s 99us/step - loss: nan - accuracy: 0.0000e+00 - val_loss: nan - val_accuracy: 0.0000e+00\n",
      "Epoch 95/100\n",
      "253/253 [==============================] - 0s 107us/step - loss: nan - accuracy: 0.0000e+00 - val_loss: nan - val_accuracy: 0.0000e+00\n",
      "Epoch 96/100\n",
      "253/253 [==============================] - 0s 103us/step - loss: nan - accuracy: 0.0000e+00 - val_loss: nan - val_accuracy: 0.0000e+00\n",
      "Epoch 97/100\n",
      "253/253 [==============================] - 0s 99us/step - loss: nan - accuracy: 0.0000e+00 - val_loss: nan - val_accuracy: 0.0000e+00\n",
      "Epoch 98/100\n",
      "253/253 [==============================] - 0s 99us/step - loss: nan - accuracy: 0.0000e+00 - val_loss: nan - val_accuracy: 0.0000e+00\n",
      "Epoch 99/100\n",
      "253/253 [==============================] - 0s 103us/step - loss: nan - accuracy: 0.0000e+00 - val_loss: nan - val_accuracy: 0.0000e+00\n",
      "Epoch 100/100\n",
      "253/253 [==============================] - 0s 107us/step - loss: nan - accuracy: 0.0000e+00 - val_loss: nan - val_accuracy: 0.0000e+00\n"
     ]
    }
   ],
   "source": [
    "hist = model.fit(X_train, Y_train,\n",
    "          batch_size=32, epochs=100,\n",
    "          validation_data=(X_val, Y_val))"
   ]
  },
  {
   "cell_type": "code",
   "execution_count": 632,
   "metadata": {},
   "outputs": [
    {
     "name": "stdout",
     "output_type": "stream",
     "text": [
      "127/127 [==============================] - 0s 63us/step\n"
     ]
    },
    {
     "data": {
      "text/plain": [
       "0.0"
      ]
     },
     "execution_count": 632,
     "metadata": {},
     "output_type": "execute_result"
    }
   ],
   "source": [
    "model.evaluate(X_test, Y_test)[1]"
   ]
  },
  {
   "cell_type": "markdown",
   "metadata": {},
   "source": [
    "Due to the randomness in how we have split the dataset the numbers and graph will differ slightly each time the notebook is ran. Test accuracy printed in the output!"
   ]
  },
  {
   "cell_type": "markdown",
   "metadata": {},
   "source": [
    "### Plot and visualise.\n",
    "\n",
    "The first two lines plot the loss and the val_loss. The third line specifies the title of this graph, “Model Loss”. The fourth and fifth line names the y and x axis. The sixth line is the legend and location for the graph.  And the seventh line is display."
   ]
  },
  {
   "cell_type": "code",
   "execution_count": 633,
   "metadata": {},
   "outputs": [],
   "source": [
    "# visualize the training loss and the validation loss\n",
    "import matplotlib.pyplot as plt"
   ]
  },
  {
   "cell_type": "code",
   "execution_count": 634,
   "metadata": {},
   "outputs": [
    {
     "data": {
      "image/png": "[encoded data removed]",
      "text/plain": [
       "<Figure size 432x288 with 1 Axes>"
      ]
     },
     "metadata": {
      "needs_background": "light"
     },
     "output_type": "display_data"
    }
   ],
   "source": [
    "plt.plot(hist.history['loss'])\n",
    "plt.plot(hist.history['val_loss'])\n",
    "plt.title('Model loss')\n",
    "plt.ylabel('Loss')\n",
    "plt.xlabel('Epoch')\n",
    "plt.legend(['Train', 'Val'], loc='upper right')\n",
    "plt.show()"
   ]
  },
  {
   "cell_type": "markdown",
   "metadata": {},
   "source": [
    "## Training accuracy and valid accuracy."
   ]
  },
  {
   "cell_type": "code",
   "execution_count": 655,
   "metadata": {},
   "outputs": [
    {
     "data": {
      "image/png": "[encoded data removed]",
      "text/plain": [
       "<Figure size 432x288 with 1 Axes>"
      ]
     },
     "metadata": {
      "needs_background": "light"
     },
     "output_type": "display_data"
    }
   ],
   "source": [
    "plt.plot(hist.history['accuracy'])\n",
    "plt.plot(hist.history['val_accuracy'])\n",
    "plt.title('Model accuracy')\n",
    "plt.ylabel('Accuracy')\n",
    "plt.xlabel('Epoch')\n",
    "plt.legend(['Train', 'Val'], loc='lower right')\n",
    "plt.show()\n"
   ]
  },
  {
   "cell_type": "code",
   "execution_count": 636,
   "metadata": {},
   "outputs": [
    {
     "name": "stdout",
     "output_type": "stream",
     "text": [
      "Train on 253 samples, validate on 126 samples\n",
      "Epoch 1/100\n",
      "253/253 [==============================] - 2s 6ms/step - loss: -183.5603 - accuracy: 0.0000e+00 - val_loss: -1186.2032 - val_accuracy: 0.0000e+00\n",
      "Epoch 2/100\n",
      "253/253 [==============================] - 0s 2ms/step - loss: -5015.2527 - accuracy: 0.0000e+00 - val_loss: -18297.4079 - val_accuracy: 0.0000e+00\n",
      "Epoch 3/100\n",
      "253/253 [==============================] - 0s 2ms/step - loss: -45893.9165 - accuracy: 0.0000e+00 - val_loss: -128355.4560 - val_accuracy: 0.0000e+00\n",
      "Epoch 4/100\n",
      "253/253 [==============================] - 0s 2ms/step - loss: -255317.2425 - accuracy: 0.0000e+00 - val_loss: -609106.9266 - val_accuracy: 0.0000e+00\n",
      "Epoch 5/100\n",
      "253/253 [==============================] - 0s 2ms/step - loss: -1030522.0292 - accuracy: 0.0000e+00 - val_loss: -2245308.8671 - val_accuracy: 0.0000e+00\n",
      "Epoch 6/100\n",
      "253/253 [==============================] - 0s 2ms/step - loss: -3444408.3656 - accuracy: 0.0000e+00 - val_loss: -6896367.1270 - val_accuracy: 0.0000e+00\n",
      "Epoch 7/100\n",
      "253/253 [==============================] - 0s 2ms/step - loss: -9937348.9526 - accuracy: 0.0000e+00 - val_loss: -18390018.0635 - val_accuracy: 0.0000e+00\n",
      "Epoch 8/100\n",
      "253/253 [==============================] - 0s 2ms/step - loss: -24687199.8893 - accuracy: 0.0000e+00 - val_loss: -43836498.5397 - val_accuracy: 0.0000e+00\n",
      "Epoch 9/100\n",
      "253/253 [==============================] - 0s 2ms/step - loss: -55696299.7945 - accuracy: 0.0000e+00 - val_loss: -95426027.3016 - val_accuracy: 0.0000e+00\n",
      "Epoch 10/100\n",
      "253/253 [==============================] - 0s 2ms/step - loss: -118137521.8972 - accuracy: 0.0000e+00 - val_loss: -192391120.7619 - val_accuracy: 0.0000e+00\n",
      "Epoch 11/100\n",
      "253/253 [==============================] - 1s 2ms/step - loss: -232172275.2253 - accuracy: 0.0000e+00 - val_loss: -364369708.6984 - val_accuracy: 0.0000e+00\n",
      "Epoch 12/100\n",
      "253/253 [==============================] - 0s 2ms/step - loss: -425588009.2332 - accuracy: 0.0000e+00 - val_loss: -654128917.3333 - val_accuracy: 0.0000e+00\n",
      "Epoch 13/100\n",
      "253/253 [==============================] - 0s 2ms/step - loss: -743563826.0870 - accuracy: 0.0000e+00 - val_loss: -1121281306.4127 - val_accuracy: 0.0000e+00\n",
      "Epoch 14/100\n",
      "253/253 [==============================] - 0s 2ms/step - loss: -1250927241.6126 - accuracy: 0.0000e+00 - val_loss: -1840509588.3175 - val_accuracy: 0.0000e+00\n",
      "Epoch 15/100\n",
      "253/253 [==============================] - 0s 2ms/step - loss: -2028184959.4941 - accuracy: 0.0000e+00 - val_loss: -2919812571.4286 - val_accuracy: 0.0000e+00\n",
      "Epoch 16/100\n",
      "253/253 [==============================] - 0s 2ms/step - loss: -3179166351.6838 - accuracy: 0.0000e+00 - val_loss: -4492884053.3333 - val_accuracy: 0.0000e+00\n",
      "Epoch 17/100\n",
      "253/253 [==============================] - 0s 2ms/step - loss: -4795529517.5336 - accuracy: 0.0000e+00 - val_loss: -6737731226.4127 - val_accuracy: 0.0000e+00\n",
      "Epoch 18/100\n",
      "253/253 [==============================] - 0s 2ms/step - loss: -7117398926.6719 - accuracy: 0.0000e+00 - val_loss: -9834669088.5079 - val_accuracy: 0.0000e+00\n",
      "Epoch 19/100\n",
      "253/253 [==============================] - 0s 2ms/step - loss: -10278805957.3123 - accuracy: 0.0000e+00 - val_loss: -14042510352.2540 - val_accuracy: 0.0000e+00\n",
      "Epoch 20/100\n",
      "253/253 [==============================] - 0s 2ms/step - loss: -14563165082.8142 - accuracy: 0.0000e+00 - val_loss: -19647392654.2222 - val_accuracy: 0.0000e+00\n",
      "Epoch 21/100\n",
      "253/253 [==============================] - 0s 2ms/step - loss: -20173556659.0988 - accuracy: 0.0000e+00 - val_loss: -27022972732.9524 - val_accuracy: 0.0000e+00\n",
      "Epoch 22/100\n",
      "253/253 [==============================] - 0s 2ms/step - loss: -27510116845.7866 - accuracy: 0.0000e+00 - val_loss: -36540944936.6349 - val_accuracy: 0.0000e+00\n",
      "Epoch 23/100\n",
      "253/253 [==============================] - 0s 2ms/step - loss: -37083596500.4901 - accuracy: 0.0000e+00 - val_loss: -48617182289.2698 - val_accuracy: 0.0000e+00\n",
      "Epoch 24/100\n",
      "253/253 [==============================] - 0s 2ms/step - loss: -48829392612.6798 - accuracy: 0.0000e+00 - val_loss: -63967255145.6508 - val_accuracy: 0.0000e+00\n",
      "Epoch 25/100\n",
      "253/253 [==============================] - 0s 2ms/step - loss: -63892450210.9091 - accuracy: 0.0000e+00 - val_loss: -82986635979.1746 - val_accuracy: 0.0000e+00\n",
      "Epoch 26/100\n",
      "253/253 [==============================] - 0s 2ms/step - loss: -82357721614.1660 - accuracy: 0.0000e+00 - val_loss: -106473475120.7619 - val_accuracy: 0.0000e+00\n",
      "Epoch 27/100\n",
      "253/253 [==============================] - 0s 2ms/step - loss: -105317393679.1779 - accuracy: 0.0000e+00 - val_loss: -134957688994.5397 - val_accuracy: 0.0000e+00\n",
      "Epoch 28/100\n",
      "253/253 [==============================] - 0s 2ms/step - loss: -132738749241.6759 - accuracy: 0.0000e+00 - val_loss: -169637722079.4921 - val_accuracy: 0.0000e+00\n",
      "Epoch 29/100\n",
      "253/253 [==============================] - 0s 2ms/step - loss: -166058789600.6324 - accuracy: 0.0000e+00 - val_loss: -211260537319.6190 - val_accuracy: 0.0000e+00\n",
      "Epoch 30/100\n",
      "253/253 [==============================] - 0s 2ms/step - loss: -207009895096.1581 - accuracy: 0.0000e+00 - val_loss: -260240072313.9048 - val_accuracy: 0.0000e+00\n",
      "Epoch 31/100\n",
      "253/253 [==============================] - 0s 2ms/step - loss: -253237716142.0395 - accuracy: 0.0000e+00 - val_loss: -319092195328.0000 - val_accuracy: 0.0000e+00\n",
      "Epoch 32/100\n",
      "253/253 [==============================] - 0s 2ms/step - loss: -309623929649.5810 - accuracy: 0.0000e+00 - val_loss: -387905457200.7619 - val_accuracy: 0.0000e+00\n",
      "Epoch 33/100\n",
      "253/253 [==============================] - 0s 2ms/step - loss: -374656562398.6087 - accuracy: 0.0000e+00 - val_loss: -468557222213.0793 - val_accuracy: 0.0000e+00\n",
      "Epoch 34/100\n",
      "253/253 [==============================] - 0s 2ms/step - loss: -452090744297.7391 - accuracy: 0.0000e+00 - val_loss: -561503092996.0635 - val_accuracy: 0.0000e+00\n",
      "Epoch 35/100\n",
      "253/253 [==============================] - 0s 2ms/step - loss: -540053930243.0356 - accuracy: 0.0000e+00 - val_loss: -669563255271.6190 - val_accuracy: 0.0000e+00\n",
      "Epoch 36/100\n",
      "253/253 [==============================] - 0s 2ms/step - loss: -642213766706.5929 - accuracy: 0.0000e+00 - val_loss: -793730578919.6190 - val_accuracy: 0.0000e+00\n",
      "Epoch 37/100\n",
      "253/253 [==============================] - 0s 2ms/step - loss: -759813464355.4150 - accuracy: 0.0000e+00 - val_loss: -935557781341.4602 - val_accuracy: 0.0000e+00\n",
      "Epoch 38/100\n",
      "253/253 [==============================] - 0s 2ms/step - loss: -893679985967.5573 - accuracy: 0.0000e+00 - val_loss: -1097101667246.7301 - val_accuracy: 0.0000e+00\n",
      "Epoch 39/100\n",
      "253/253 [==============================] - 0s 2ms/step - loss: -1044063274967.5258 - accuracy: 0.0000e+00 - val_loss: -1281551857111.3650 - val_accuracy: 0.0000e+00\n",
      "Epoch 40/100\n",
      "253/253 [==============================] - 0s 2ms/step - loss: -1218965562153.4863 - accuracy: 0.0000e+00 - val_loss: -1487947300864.0000 - val_accuracy: 0.0000e+00\n",
      "Epoch 41/100\n",
      "253/253 [==============================] - 0s 2ms/step - loss: -1411748197857.6443 - accuracy: 0.0000e+00 - val_loss: -1721996598125.7144 - val_accuracy: 0.0000e+00\n",
      "Epoch 42/100\n",
      "253/253 [==============================] - 0s 2ms/step - loss: -1632310123410.7195 - accuracy: 0.0000e+00 - val_loss: -1983161500688.2537 - val_accuracy: 0.0000e+00\n",
      "Epoch 43/100\n",
      "253/253 [==============================] - 0s 2ms/step - loss: -1876280873526.6404 - accuracy: 0.0000e+00 - val_loss: -2276384550586.9204 - val_accuracy: 0.0000e+00\n",
      "Epoch 44/100\n",
      "253/253 [==============================] - 0s 2ms/step - loss: -2148588165322.3713 - accuracy: 0.0000e+00 - val_loss: -2604195281383.6191 - val_accuracy: 0.0000e+00\n",
      "Epoch 45/100\n",
      "253/253 [==============================] - 1s 2ms/step - loss: -2457377602418.3398 - accuracy: 0.0000e+00 - val_loss: -2965245388702.4761 - val_accuracy: 0.0000e+00\n",
      "Epoch 46/100\n",
      "253/253 [==============================] - 0s 2ms/step - loss: -2786585207723.0039 - accuracy: 0.0000e+00 - val_loss: -3372024977245.4604 - val_accuracy: 0.0000e+00\n",
      "Epoch 47/100\n",
      "253/253 [==============================] - 0s 2ms/step - loss: -3168174698576.9487 - accuracy: 0.0000e+00 - val_loss: -3814767156597.8408 - val_accuracy: 0.0000e+00\n",
      "Epoch 48/100\n"
     ]
    },
    {
     "name": "stdout",
     "output_type": "stream",
     "text": [
      "253/253 [==============================] - 0s 2ms/step - loss: -3584139186030.2925 - accuracy: 0.0000e+00 - val_loss: -4301592602786.5396 - val_accuracy: 0.0000e+00\n",
      "Epoch 49/100\n",
      "253/253 [==============================] - 0s 2ms/step - loss: -4040595623142.7041 - accuracy: 0.0000e+00 - val_loss: -4837691209435.4287 - val_accuracy: 0.0000e+00\n",
      "Epoch 50/100\n",
      "253/253 [==============================] - 0s 2ms/step - loss: -4532601497203.3516 - accuracy: 0.0000e+00 - val_loss: -5432659989325.2061 - val_accuracy: 0.0000e+00\n",
      "Epoch 51/100\n",
      "253/253 [==============================] - 0s 2ms/step - loss: -5079861289899.0039 - accuracy: 0.0000e+00 - val_loss: -6083120792592.2539 - val_accuracy: 0.0000e+00\n",
      "Epoch 52/100\n",
      "253/253 [==============================] - 0s 2ms/step - loss: -5682226318955.2568 - accuracy: 0.0000e+00 - val_loss: -6789075674778.4131 - val_accuracy: 0.0000e+00\n",
      "Epoch 53/100\n",
      "253/253 [==============================] - 0s 2ms/step - loss: -6331472953020.2061 - accuracy: 0.0000e+00 - val_loss: -7560582635129.9043 - val_accuracy: 0.0000e+00\n",
      "Epoch 54/100\n",
      "253/253 [==============================] - 0s 2ms/step - loss: -7049223954464.3799 - accuracy: 0.0000e+00 - val_loss: -8394881888190.9854 - val_accuracy: 0.0000e+00\n",
      "Epoch 55/100\n",
      "253/253 [==============================] - 1s 2ms/step - loss: -7818441426320.6963 - accuracy: 0.0000e+00 - val_loss: -9305309806071.8730 - val_accuracy: 0.0000e+00\n",
      "Epoch 56/100\n",
      "253/253 [==============================] - 1s 2ms/step - loss: -8659993023613.4697 - accuracy: 0.0000e+00 - val_loss: -10290294065704.6367 - val_accuracy: 0.0000e+00\n",
      "Epoch 57/100\n",
      "253/253 [==============================] - 0s 2ms/step - loss: -9563967353171.9844 - accuracy: 0.0000e+00 - val_loss: -11359889254302.4766 - val_accuracy: 0.0000e+00\n",
      "Epoch 58/100\n",
      "253/253 [==============================] - 0s 2ms/step - loss: -10540844793273.1699 - accuracy: 0.0000e+00 - val_loss: -12517835875474.2852 - val_accuracy: 0.0000e+00: 0s - loss: -10688394795417.5996 - accuracy: 0.0000\n",
      "Epoch 59/100\n",
      "253/253 [==============================] - 0s 2ms/step - loss: -11613631459862.2598 - accuracy: 0.0000e+00 - val_loss: -13755847698854.6035 - val_accuracy: 0.0000e+00\n",
      "Epoch 60/100\n",
      "253/253 [==============================] - 0s 2ms/step - loss: -12750323507879.9688 - accuracy: 0.0000e+00 - val_loss: -15096018919814.0957 - val_accuracy: 0.0000e+00\n",
      "Epoch 61/100\n",
      "253/253 [==============================] - 0s 2ms/step - loss: -13986540417493.5020 - accuracy: 0.0000e+00 - val_loss: -16532852287130.4121 - val_accuracy: 0.0000e+00\n",
      "Epoch 62/100\n",
      "253/253 [==============================] - 0s 2ms/step - loss: -15306410183910.7031 - accuracy: 0.0000e+00 - val_loss: -18079016213357.7148 - val_accuracy: 0.0000e+00\n",
      "Epoch 63/100\n",
      "253/253 [==============================] - 0s 2ms/step - loss: -16720832833398.3867 - accuracy: 0.0000e+00 - val_loss: -19739005727435.1758 - val_accuracy: 0.0000e+00\n",
      "Epoch 64/100\n",
      "253/253 [==============================] - 0s 2ms/step - loss: -18242967207288.4102 - accuracy: 0.0000e+00 - val_loss: -21513973630488.3828 - val_accuracy: 0.0000e+00\n",
      "Epoch 65/100\n",
      "253/253 [==============================] - 0s 2ms/step - loss: -19875986139063.1445 - accuracy: 0.0000e+00 - val_loss: -23409405339810.5391 - val_accuracy: 0.0000e+00\n",
      "Epoch 66/100\n",
      "253/253 [==============================] - 0s 2ms/step - loss: -21604783552746.7500 - accuracy: 0.0000e+00 - val_loss: -25441279089777.7773 - val_accuracy: 0.0000e+00\n",
      "Epoch 67/100\n",
      "253/253 [==============================] - 0s 2ms/step - loss: -23474897098047.7500 - accuracy: 0.0000e+00 - val_loss: -27597569211635.8086 - val_accuracy: 0.0000e+00\n",
      "Epoch 68/100\n",
      "253/253 [==============================] - 0s 2ms/step - loss: -25441965652397.0273 - accuracy: 0.0000e+00 - val_loss: -29907975239127.3633 - val_accuracy: 0.0000e+00\n",
      "Epoch 69/100\n",
      "253/253 [==============================] - 0s 2ms/step - loss: -27546305968297.9922 - accuracy: 0.0000e+00 - val_loss: -32368768802165.8398 - val_accuracy: 0.0000e+00\n",
      "Epoch 70/100\n",
      "253/253 [==============================] - 0s 2ms/step - loss: -29787540326294.7656 - accuracy: 0.0000e+00 - val_loss: -34983426812326.6016 - val_accuracy: 0.0000e+00\n",
      "Epoch 71/100\n",
      "253/253 [==============================] - 0s 2ms/step - loss: -32173963973822.2266 - accuracy: 0.0000e+00 - val_loss: -37754870901938.7969 - val_accuracy: 0.0000e+00\n",
      "Epoch 72/100\n",
      "253/253 [==============================] - 0s 2ms/step - loss: -34721360234326.0078 - accuracy: 0.0000e+00 - val_loss: -40683198705078.8594 - val_accuracy: 0.0000e+00\n",
      "Epoch 73/100\n",
      "253/253 [==============================] - 0s 2ms/step - loss: -37389113258323.9844 - accuracy: 0.0000e+00 - val_loss: -43802158723527.1094 - val_accuracy: 0.0000e+00\n",
      "Epoch 74/100\n",
      "253/253 [==============================] - 0s 2ms/step - loss: -40213870105595.9531 - accuracy: 0.0000e+00 - val_loss: -47116704263866.9219 - val_accuracy: 0.0000e+00\n",
      "Epoch 75/100\n",
      "253/253 [==============================] - 0s 2ms/step - loss: -43247148798777.6719 - accuracy: 0.0000e+00 - val_loss: -50599252784079.2344 - val_accuracy: 0.0000e+00\n",
      "Epoch 76/100\n",
      "253/253 [==============================] - 0s 2ms/step - loss: -46470525252442.0547 - accuracy: 0.0000e+00 - val_loss: -54250423243597.2031 - val_accuracy: 0.0000e+00\n",
      "Epoch 77/100\n",
      "253/253 [==============================] - 0s 2ms/step - loss: -49781212029154.6562 - accuracy: 0.0000e+00 - val_loss: -58154665090681.9062 - val_accuracy: 0.0000e+00\n",
      "Epoch 78/100\n",
      "253/253 [==============================] - 0s 2ms/step - loss: -53313566578631.3359 - accuracy: 0.0000e+00 - val_loss: -62281877137050.4141 - val_accuracy: 0.0000e+00\n",
      "Epoch 79/100\n",
      "253/253 [==============================] - 0s 2ms/step - loss: -57075240471847.4609 - accuracy: 0.0000e+00 - val_loss: -66612286102121.6484 - val_accuracy: 0.0000e+00\n",
      "Epoch 80/100\n",
      "253/253 [==============================] - 0s 2ms/step - loss: -61040320138211.6641 - accuracy: 0.0000e+00 - val_loss: -71154418606470.0938 - val_accuracy: 0.0000e+00\n",
      "Epoch 81/100\n",
      "253/253 [==============================] - 0s 2ms/step - loss: -65166766068731.9609 - accuracy: 0.0000e+00 - val_loss: -75962135239013.5938 - val_accuracy: 0.0000e+00\n",
      "Epoch 82/100\n",
      "253/253 [==============================] - 0s 2ms/step - loss: -69557776311599.5625 - accuracy: 0.0000e+00 - val_loss: -81004710725664.5156 - val_accuracy: 0.0000e+00\n",
      "Epoch 83/100\n",
      "253/253 [==============================] - 0s 2ms/step - loss: -74055570832048.0625 - accuracy: 0.0000e+00 - val_loss: -86366861685191.1094 - val_accuracy: 0.0000e+00\n",
      "Epoch 84/100\n",
      "253/253 [==============================] - 0s 2ms/step - loss: -78970491090207.3750 - accuracy: 0.0000e+00 - val_loss: -91911015345850.9062 - val_accuracy: 0.0000e+00\n",
      "Epoch 85/100\n",
      "253/253 [==============================] - 0s 2ms/step - loss: -84029644096200.3438 - accuracy: 0.0000e+00 - val_loss: -97739290360555.6875 - val_accuracy: 0.0000e+00\n",
      "Epoch 86/100\n",
      "253/253 [==============================] - 0s 2ms/step - loss: -89347595373863.4688 - accuracy: 0.0000e+00 - val_loss: -103855402216886.8594 - val_accuracy: 0.0000e+00\n",
      "Epoch 87/100\n",
      "253/253 [==============================] - 0s 2ms/step - loss: -94870562838471.3281 - accuracy: 0.0000e+00 - val_loss: -110298202286762.6719 - val_accuracy: 0.0000e+00\n",
      "Epoch 88/100\n",
      "253/253 [==============================] - 0s 2ms/step - loss: -100702275308321.3906 - accuracy: 0.0000e+00 - val_loss: -117044432155859.2969 - val_accuracy: 0.0000e+00\n",
      "Epoch 89/100\n",
      "253/253 [==============================] - 0s 2ms/step - loss: -106863219256194.5312 - accuracy: 0.0000e+00 - val_loss: -124064060607536.7656 - val_accuracy: 0.0000e+00\n",
      "Epoch 90/100\n",
      "253/253 [==============================] - 0s 2ms/step - loss: -113251786324850.3438 - accuracy: 0.0000e+00 - val_loss: -131409981010895.2344 - val_accuracy: 0.0000e+00\n",
      "Epoch 91/100\n",
      "253/253 [==============================] - 0s 2ms/step - loss: -119868831953365.5000 - accuracy: 0.0000e+00 - val_loss: -139140547985147.9375 - val_accuracy: 0.0000e+00\n",
      "Epoch 92/100\n",
      "253/253 [==============================] - 0s 2ms/step - loss: -126905182318543.4375 - accuracy: 0.0000e+00 - val_loss: -147167902978373.0938 - val_accuracy: 0.0000e+00\n",
      "Epoch 93/100\n"
     ]
    },
    {
     "name": "stdout",
     "output_type": "stream",
     "text": [
      "253/253 [==============================] - 0s 2ms/step - loss: -134150443737832.7344 - accuracy: 0.0000e+00 - val_loss: -155593019132456.6250 - val_accuracy: 0.0000e+00\n",
      "Epoch 94/100\n",
      "253/253 [==============================] - 0s 2ms/step - loss: -141819824490585.0625 - accuracy: 0.0000e+00 - val_loss: -164334550251487.5312 - val_accuracy: 0.0000e+00\n",
      "Epoch 95/100\n",
      "253/253 [==============================] - 0s 2ms/step - loss: -149741072236997.3125 - accuracy: 0.0000e+00 - val_loss: -173471639922590.4688 - val_accuracy: 0.0000e+00\n",
      "Epoch 96/100\n",
      "253/253 [==============================] - 0s 2ms/step - loss: -158008072211492.4375 - accuracy: 0.0000e+00 - val_loss: -183013624267012.0625 - val_accuracy: 0.0000e+00\n",
      "Epoch 97/100\n",
      "253/253 [==============================] - 0s 2ms/step - loss: -166683797992735.3750 - accuracy: 0.0000e+00 - val_loss: -192911072812925.9688 - val_accuracy: 0.0000e+00\n",
      "Epoch 98/100\n",
      "253/253 [==============================] - 0s 2ms/step - loss: -175698971946570.8750 - accuracy: 0.0000e+00 - val_loss: -203217415400886.8125 - val_accuracy: 0.0000e+00\n",
      "Epoch 99/100\n",
      "253/253 [==============================] - 0s 2ms/step - loss: -184847996585360.6875 - accuracy: 0.0000e+00 - val_loss: -214103780166704.7500 - val_accuracy: 0.0000e+00\n",
      "Epoch 100/100\n",
      "253/253 [==============================] - 0s 2ms/step - loss: -194813736430596.0625 - accuracy: 0.0000e+00 - val_loss: -225232669975698.2812 - val_accuracy: 0.0000e+00\n"
     ]
    }
   ],
   "source": [
    "model_2 = Sequential([\n",
    "    Dense(1000, activation='relu', input_shape=(5,)),\n",
    "    Dense(1000, activation='relu'),\n",
    "    Dense(1000, activation='relu'),\n",
    "    Dense(1000, activation='relu'),\n",
    "    Dense(1, activation='sigmoid'),\n",
    "])\n",
    "model_2.compile(optimizer='adam',\n",
    "              loss='binary_crossentropy',\n",
    "              metrics=['accuracy'],)\n",
    "hist_2 = model_2.fit(X_train, Y_train,\n",
    "          batch_size=32, epochs=100,\n",
    "          validation_data=(X_val, Y_val))"
   ]
  },
  {
   "cell_type": "code",
   "execution_count": 653,
   "metadata": {},
   "outputs": [
    {
     "name": "stdout",
     "output_type": "stream",
     "text": [
      "127/127 [==============================] - 0s 63us/step\n"
     ]
    },
    {
     "data": {
      "text/plain": [
       "nan"
      ]
     },
     "execution_count": 653,
     "metadata": {},
     "output_type": "execute_result"
    }
   ],
   "source": [
    "model.evaluate(X_test, Y_test)[0]"
   ]
  },
  {
   "cell_type": "code",
   "execution_count": 644,
   "metadata": {},
   "outputs": [
    {
     "data": {
      "image/png": "[encoded data removed]",
      "text/plain": [
       "<Figure size 432x288 with 1 Axes>"
      ]
     },
     "metadata": {
      "needs_background": "light"
     },
     "output_type": "display_data"
    }
   ],
   "source": [
    "plt.plot(hist_2.history['loss'])\n",
    "plt.plot(hist_2.history['val_loss'])\n",
    "plt.title('Model loss')\n",
    "plt.ylabel('Loss')\n",
    "plt.xlabel('Epoch')\n",
    "plt.legend(['Train', 'Val'], loc='upper right')\n",
    "plt.show()"
   ]
  },
  {
   "cell_type": "code",
   "execution_count": 645,
   "metadata": {},
   "outputs": [
    {
     "data": {
      "image/png": "[encoded data removed]",
      "text/plain": [
       "<Figure size 432x288 with 1 Axes>"
      ]
     },
     "metadata": {
      "needs_background": "light"
     },
     "output_type": "display_data"
    }
   ],
   "source": [
    "plt.plot(hist_2.history['accuracy'])\n",
    "plt.plot(hist_2.history['val_accuracy'])\n",
    "plt.title('Model accuracy')\n",
    "plt.ylabel('Accuracy')\n",
    "plt.xlabel('Epoch')\n",
    "plt.legend(['Train', 'Val'], loc='lower right')\n",
    "plt.show()"
   ]
  },
  {
   "cell_type": "code",
   "execution_count": 646,
   "metadata": {},
   "outputs": [],
   "source": [
    "from keras.layers import Dropout\n",
    "from keras import regularizers #tells Keras to include the squared values of those parameters in loss function, \n",
    "#and weight them by 0.01 in the loss function."
   ]
  },
  {
   "cell_type": "code",
   "execution_count": 642,
   "metadata": {},
   "outputs": [],
   "source": [
    "model_3 = Sequential([\n",
    "    Dense(1000, activation='relu', kernel_regularizer=regularizers.l2(0.01), input_shape=(5,)),\n",
    "    Dropout(0.3),\n",
    "    Dense(1000, activation='relu', kernel_regularizer=regularizers.l2(0.01)), #tells Keras to include the squared values of those parameters in loss function, \n",
    "                                                                                #and weight them by 0.01 in the loss function.\n",
    "    Dropout(0.3),\n",
    "    Dense(1000, activation='relu', kernel_regularizer=regularizers.l2(0.01)),\n",
    "    Dropout(0.3),\n",
    "    Dense(1000, activation='relu', kernel_regularizer=regularizers.l2(0.01)),\n",
    "    Dropout(0.3),\n",
    "    Dense(1, activation='sigmoid', kernel_regularizer=regularizers.l2(0.01)),\n",
    "])"
   ]
  },
  {
   "cell_type": "code",
   "execution_count": 643,
   "metadata": {},
   "outputs": [
    {
     "name": "stdout",
     "output_type": "stream",
     "text": [
      "Train on 253 samples, validate on 126 samples\n",
      "Epoch 1/100\n",
      "253/253 [==============================] - 2s 10ms/step - loss: -294.2554 - accuracy: 0.0000e+00 - val_loss: -2077.0225 - val_accuracy: 0.0000e+00\n",
      "Epoch 2/100\n",
      "253/253 [==============================] - 1s 2ms/step - loss: -10063.9879 - accuracy: 0.0000e+00 - val_loss: -38887.2086 - val_accuracy: 0.0000e+00\n",
      "Epoch 3/100\n",
      "253/253 [==============================] - 1s 2ms/step - loss: -102248.4801 - accuracy: 0.0000e+00 - val_loss: -293587.0918 - val_accuracy: 0.0000e+00\n",
      "Epoch 4/100\n",
      "253/253 [==============================] - 1s 2ms/step - loss: -607186.9096 - accuracy: 0.0000e+00 - val_loss: -1456660.8155 - val_accuracy: 0.0000e+00\n",
      "Epoch 5/100\n",
      "253/253 [==============================] - 1s 2ms/step - loss: -2546425.6798 - accuracy: 0.0000e+00 - val_loss: -5537408.1587 - val_accuracy: 0.0000e+00\n",
      "Epoch 6/100\n",
      "253/253 [==============================] - 1s 2ms/step - loss: -8653128.5968 - accuracy: 0.0000e+00 - val_loss: -17457959.8730 - val_accuracy: 0.0000e+00\n",
      "Epoch 7/100\n",
      "253/253 [==============================] - 1s 2ms/step - loss: -25182432.5059 - accuracy: 0.0000e+00 - val_loss: -47666143.6190 - val_accuracy: 0.0000e+00\n",
      "Epoch 8/100\n",
      "253/253 [==============================] - 1s 2ms/step - loss: -66578406.0079 - accuracy: 0.0000e+00 - val_loss: -116123922.2857 - val_accuracy: 0.0000e+00\n",
      "Epoch 9/100\n",
      "253/253 [==============================] - 1s 2ms/step - loss: -150758151.3992 - accuracy: 0.0000e+00 - val_loss: -257896000.0000 - val_accuracy: 0.0000e+00\n",
      "Epoch 10/100\n",
      "253/253 [==============================] - 1s 2ms/step - loss: -319011142.1976 - accuracy: 0.0000e+00 - val_loss: -530295074.5397 - val_accuracy: 0.0000e+00\n",
      "Epoch 11/100\n",
      "253/253 [==============================] - 1s 2ms/step - loss: -644432125.2174 - accuracy: 0.0000e+00 - val_loss: -1021747904.0000 - val_accuracy: 0.0000e+00\n",
      "Epoch 12/100\n",
      "253/253 [==============================] - 1s 2ms/step - loss: -1197949293.2806 - accuracy: 0.0000e+00 - val_loss: -1864080603.4286 - val_accuracy: 0.0000e+00\n",
      "Epoch 13/100\n",
      "253/253 [==============================] - 1s 2ms/step - loss: -2142977874.9723 - accuracy: 0.0000e+00 - val_loss: -3243832884.8254 - val_accuracy: 0.0000e+00\n",
      "Epoch 14/100\n",
      "253/253 [==============================] - 1s 2ms/step - loss: -3660192604.0791 - accuracy: 0.0000e+00 - val_loss: -5410049145.9048 - val_accuracy: 0.0000e+00\n",
      "Epoch 15/100\n",
      "253/253 [==============================] - 1s 2ms/step - loss: -5939738599.7154 - accuracy: 0.0000e+00 - val_loss: -8695125479.6190 - val_accuracy: 0.0000e+00\n",
      "Epoch 16/100\n",
      "253/253 [==============================] - 1s 2ms/step - loss: -9540963906.7826 - accuracy: 0.0000e+00 - val_loss: -13557710344.1270 - val_accuracy: 0.0000e+00\n",
      "Epoch 17/100\n",
      "253/253 [==============================] - 1s 2ms/step - loss: -14625565040.3162 - accuracy: 0.0000e+00 - val_loss: -20564029212.4444 - val_accuracy: 0.0000e+00\n",
      "Epoch 18/100\n",
      "253/253 [==============================] - 1s 2ms/step - loss: -21820073935.4308 - accuracy: 0.0000e+00 - val_loss: -30371232361.6508 - val_accuracy: 0.0000e+00\n",
      "Epoch 19/100\n",
      "253/253 [==============================] - 1s 2ms/step - loss: -31888853971.4783 - accuracy: 0.0000e+00 - val_loss: -43841642105.9048 - val_accuracy: 0.0000e+00\n",
      "Epoch 20/100\n",
      "253/253 [==============================] - 1s 2ms/step - loss: -45620834401.1383 - accuracy: 0.0000e+00 - val_loss: -62174431394.5397 - val_accuracy: 0.0000e+00\n",
      "Epoch 21/100\n",
      "253/253 [==============================] - 1s 2ms/step - loss: -63743063489.2648 - accuracy: 0.0000e+00 - val_loss: -86320871261.4603 - val_accuracy: 0.0000e+00\n",
      "Epoch 22/100\n",
      "253/253 [==============================] - 1s 2ms/step - loss: -88153834831.9368 - accuracy: 0.0000e+00 - val_loss: -117951399058.2857 - val_accuracy: 0.0000e+00\n",
      "Epoch 23/100\n",
      "253/253 [==============================] - 1s 2ms/step - loss: -120626466573.1541 - accuracy: 0.0000e+00 - val_loss: -158804635843.0476 - val_accuracy: 0.0000e+00\n",
      "Epoch 24/100\n",
      "253/253 [==============================] - 1s 2ms/step - loss: -160866880418.9091 - accuracy: 0.0000e+00 - val_loss: -210574394904.3810 - val_accuracy: 0.0000e+00\n",
      "Epoch 25/100\n",
      "253/253 [==============================] - 1s 2ms/step - loss: -211612486951.4625 - accuracy: 0.0000e+00 - val_loss: -275875621286.6031 - val_accuracy: 0.0000e+00\n",
      "Epoch 26/100\n",
      "253/253 [==============================] - 1s 2ms/step - loss: -276047522366.7352 - accuracy: 0.0000e+00 - val_loss: -356871847155.8095 - val_accuracy: 0.0000e+00\n",
      "Epoch 27/100\n",
      "253/253 [==============================] - 1s 2ms/step - loss: -354250748891.5731 - accuracy: 0.0000e+00 - val_loss: -456048607752.1270 - val_accuracy: 0.0000e+00\n",
      "Epoch 28/100\n",
      "253/253 [==============================] - 1s 2ms/step - loss: -450771977616.6956 - accuracy: 0.0000e+00 - val_loss: -576950679259.4286 - val_accuracy: 0.0000e+00\n",
      "Epoch 29/100\n",
      "253/253 [==============================] - 1s 2ms/step - loss: -566931729671.0830 - accuracy: 0.0000e+00 - val_loss: -724204251038.4762 - val_accuracy: 0.0000e+00\n",
      "Epoch 30/100\n",
      "253/253 [==============================] - 1s 2ms/step - loss: -709413075567.3043 - accuracy: 0.0000e+00 - val_loss: -900654228366.2222 - val_accuracy: 0.0000e+00\n",
      "Epoch 31/100\n",
      "253/253 [==============================] - 1s 2ms/step - loss: -875118729288.8538 - accuracy: 0.0000e+00 - val_loss: -1110565023158.8572 - val_accuracy: 0.0000e+00\n",
      "Epoch 32/100\n",
      "253/253 [==============================] - 1s 2ms/step - loss: -1081290617431.0198 - accuracy: 0.0000e+00 - val_loss: -1356576758377.6509 - val_accuracy: 0.0000e+00\n",
      "Epoch 33/100\n",
      "253/253 [==============================] - 1s 2ms/step - loss: -1315049599315.9844 - accuracy: 0.0000e+00 - val_loss: -1649082817389.7144 - val_accuracy: 0.0000e+00\n",
      "Epoch 34/100\n",
      "253/253 [==============================] - 1s 2ms/step - loss: -1593644472457.6125 - accuracy: 0.0000e+00 - val_loss: -1990584744683.6826 - val_accuracy: 0.0000e+00\n",
      "Epoch 35/100\n",
      "253/253 [==============================] - 1s 2ms/step - loss: -1922761670720.7588 - accuracy: 0.0000e+00 - val_loss: -2387309352797.4604 - val_accuracy: 0.0000e+00\n",
      "Epoch 36/100\n",
      "253/253 [==============================] - 1s 2ms/step - loss: -2295171593632.8853 - accuracy: 0.0000e+00 - val_loss: -2844839150088.1270 - val_accuracy: 0.0000e+00\n",
      "Epoch 37/100\n",
      "253/253 [==============================] - 1s 2ms/step - loss: -2736443703231.2412 - accuracy: 0.0000e+00 - val_loss: -3372653706743.8730 - val_accuracy: 0.0000e+00\n",
      "Epoch 38/100\n",
      "253/253 [==============================] - 1s 2ms/step - loss: -3251665545207.9053 - accuracy: 0.0000e+00 - val_loss: -3975486669320.1270 - val_accuracy: 0.0000e+00\n",
      "Epoch 39/100\n",
      "253/253 [==============================] - 1s 2ms/step - loss: -3808073416444.9644 - accuracy: 0.0000e+00 - val_loss: -4665694607197.4600 - val_accuracy: 0.0000e+00\n",
      "Epoch 40/100\n",
      "253/253 [==============================] - 1s 2ms/step - loss: -4479833043543.0195 - accuracy: 0.0000e+00 - val_loss: -5450715011689.6504 - val_accuracy: 0.0000e+00\n",
      "Epoch 41/100\n",
      "253/253 [==============================] - 1s 2ms/step - loss: -5200104873498.3086 - accuracy: 0.0000e+00 - val_loss: -6339817981204.3184 - val_accuracy: 0.0000e+00\n",
      "Epoch 42/100\n",
      "253/253 [==============================] - 1s 2ms/step - loss: -5987291833712.3164 - accuracy: 0.0000e+00 - val_loss: -7340622098627.0479 - val_accuracy: 0.0000e+00\n",
      "Epoch 43/100\n",
      "253/253 [==============================] - ETA: 0s - loss: -6943557325385.1426 - accuracy: 0.0000e+0 - 1s 2ms/step - loss: -6959755394683.4473 - accuracy: 0.0000e+00 - val_loss: -8454315508752.2539 - val_accuracy: 0.0000e+00\n",
      "Epoch 44/100\n",
      "253/253 [==============================] - 1s 2ms/step - loss: -7990993223680.0000 - accuracy: 0.0000e+00 - val_loss: -9709838992400.2539 - val_accuracy: 0.0000e+00\n",
      "Epoch 45/100\n",
      "253/253 [==============================] - 1s 2ms/step - loss: -9140368701933.7871 - accuracy: 0.0000e+00 - val_loss: -11104144563833.9043 - val_accuracy: 0.0000e+00\n",
      "Epoch 46/100\n",
      "253/253 [==============================] - 1s 2ms/step - loss: -10453040748422.5762 - accuracy: 0.0000e+00 - val_loss: -12654459486208.0000 - val_accuracy: 0.0000e+00\n",
      "Epoch 47/100\n"
     ]
    },
    {
     "name": "stdout",
     "output_type": "stream",
     "text": [
      "253/253 [==============================] - 1s 2ms/step - loss: -11951479783164.9648 - accuracy: 0.0000e+00 - val_loss: -14375046789867.6816 - val_accuracy: 0.0000e+00\n",
      "Epoch 48/100\n",
      "253/253 [==============================] - 1s 2ms/step - loss: -13522686112990.6074 - accuracy: 0.0000e+00 - val_loss: -16279604189541.5879 - val_accuracy: 0.0000e+00\n",
      "Epoch 49/100\n",
      "253/253 [==============================] - 1s 2ms/step - loss: -15255707928535.5254 - accuracy: 0.0000e+00 - val_loss: -18389017221997.7148 - val_accuracy: 0.0000e+00\n",
      "Epoch 50/100\n",
      "253/253 [==============================] - 1s 2ms/step - loss: -17315619358161.4531 - accuracy: 0.0000e+00 - val_loss: -20691077549884.9531 - val_accuracy: 0.0000e+00\n",
      "Epoch 51/100\n",
      "253/253 [==============================] - 1s 2ms/step - loss: -19389758985989.0586 - accuracy: 0.0000e+00 - val_loss: -23234242583145.6523 - val_accuracy: 0.0000e+00\n",
      "Epoch 52/100\n",
      "253/253 [==============================] - 1s 2ms/step - loss: -21663908600528.4414 - accuracy: 0.0000e+00 - val_loss: -26037564548242.2852 - val_accuracy: 0.0000e+00\n",
      "Epoch 53/100\n",
      "253/253 [==============================] - 1s 2ms/step - loss: -24393323297844.6172 - accuracy: 0.0000e+00 - val_loss: -29084543086526.9844 - val_accuracy: 0.0000e+00\n",
      "Epoch 54/100\n",
      "253/253 [==============================] - 1s 2ms/step - loss: -27162191773760.7578 - accuracy: 0.0000e+00 - val_loss: -32400022991303.1094 - val_accuracy: 0.0000e+00\n",
      "Epoch 55/100\n",
      "253/253 [==============================] - 1s 2ms/step - loss: -30366980945442.4023 - accuracy: 0.0000e+00 - val_loss: -36019136818094.7266 - val_accuracy: 0.0000e+00\n",
      "Epoch 56/100\n",
      "253/253 [==============================] - 1s 2ms/step - loss: -33419196432124.9648 - accuracy: 0.0000e+00 - val_loss: -39955887217517.7031 - val_accuracy: 0.0000e+00\n",
      "Epoch 57/100\n",
      "253/253 [==============================] - 1s 2ms/step - loss: -36968810293887.5000 - accuracy: 0.0000e+00 - val_loss: -44197143055408.7656 - val_accuracy: 0.0000e+00\n",
      "Epoch 58/100\n",
      "253/253 [==============================] - 1s 2ms/step - loss: -41079945655389.0938 - accuracy: 0.0000e+00 - val_loss: -48800723578034.7969 - val_accuracy: 0.0000e+00\n",
      "Epoch 59/100\n",
      "253/253 [==============================] - 1s 2ms/step - loss: -45317085369275.1953 - accuracy: 0.0000e+00 - val_loss: -53796625848417.5234 - val_accuracy: 0.0000e+00\n",
      "Epoch 60/100\n",
      "253/253 [==============================] - 1s 2ms/step - loss: -49983808517148.3359 - accuracy: 0.0000e+00 - val_loss: -59190941394066.2969 - val_accuracy: 0.0000e+00\n",
      "Epoch 61/100\n",
      "253/253 [==============================] - 1s 2ms/step - loss: -54975076646588.2031 - accuracy: 0.0000e+00 - val_loss: -65001347475358.4766 - val_accuracy: 0.0000e+00\n",
      "Epoch 62/100\n",
      "253/253 [==============================] - 1s 2ms/step - loss: -60305377331224.2812 - accuracy: 0.0000e+00 - val_loss: -71228600398539.1719 - val_accuracy: 0.0000e+00\n",
      "Epoch 63/100\n",
      "253/253 [==============================] - 1s 2ms/step - loss: -65780241516892.0859 - accuracy: 0.0000e+00 - val_loss: -77918115354981.5938 - val_accuracy: 0.0000e+00\n",
      "Epoch 64/100\n",
      "253/253 [==============================] - 1s 2ms/step - loss: -71798527006663.3281 - accuracy: 0.0000e+00 - val_loss: -85131905994817.0156 - val_accuracy: 0.0000e+00\n",
      "Epoch 65/100\n",
      "253/253 [==============================] - 1s 2ms/step - loss: -78734081283845.0625 - accuracy: 0.0000e+00 - val_loss: -92811440273115.4062 - val_accuracy: 0.0000e+00\n",
      "Epoch 66/100\n",
      "253/253 [==============================] - 1s 2ms/step - loss: -85678307889653.8906 - accuracy: 0.0000e+00 - val_loss: -101058910875582.9844 - val_accuracy: 0.0000e+00\n",
      "Epoch 67/100\n",
      "253/253 [==============================] - 1s 2ms/step - loss: -93356104969284.8125 - accuracy: 0.0000e+00 - val_loss: -109866331048488.6406 - val_accuracy: 0.0000e+00\n",
      "Epoch 68/100\n",
      "253/253 [==============================] - 1s 2ms/step - loss: -101813744813910.0156 - accuracy: 0.0000e+00 - val_loss: -119288031675408.2344 - val_accuracy: 0.0000e+00\n",
      "Epoch 69/100\n",
      "253/253 [==============================] - 1s 2ms/step - loss: -110070066687239.0781 - accuracy: 0.0000e+00 - val_loss: -129247753651996.4375 - val_accuracy: 0.0000e+00\n",
      "Epoch 70/100\n",
      "253/253 [==============================] - 1s 2ms/step - loss: -119929655230075.4531 - accuracy: 0.0000e+00 - val_loss: -139917688603144.1250 - val_accuracy: 0.0000e+00\n",
      "Epoch 71/100\n",
      "253/253 [==============================] - 1s 2ms/step - loss: -129671111880461.1562 - accuracy: 0.0000e+00 - val_loss: -151311085070238.4688 - val_accuracy: 0.0000e+00\n",
      "Epoch 72/100\n",
      "253/253 [==============================] - 1s 2ms/step - loss: -139545681217236.4844 - accuracy: 0.0000e+00 - val_loss: -163407139305439.5312 - val_accuracy: 0.0000e+00\n",
      "Epoch 73/100\n",
      "253/253 [==============================] - 1s 2ms/step - loss: -150394711577660.7188 - accuracy: 0.0000e+00 - val_loss: -176193665191220.8125 - val_accuracy: 0.0000e+00\n",
      "Epoch 74/100\n",
      "253/253 [==============================] - 1s 2ms/step - loss: -162400383368309.3750 - accuracy: 0.0000e+00 - val_loss: -189782650644382.4688 - val_accuracy: 0.0000e+00\n",
      "Epoch 75/100\n",
      "253/253 [==============================] - 1s 2ms/step - loss: -174105340007808.5000 - accuracy: 0.0000e+00 - val_loss: -204148057159387.4375 - val_accuracy: 0.0000e+00\n",
      "Epoch 76/100\n",
      "253/253 [==============================] - 1s 2ms/step - loss: -187071600650685.2188 - accuracy: 0.0000e+00 - val_loss: -219281479883629.7188 - val_accuracy: 0.0000e+00\n",
      "Epoch 77/100\n",
      "253/253 [==============================] - 1s 2ms/step - loss: -201808450420736.0000 - accuracy: 0.0000e+00 - val_loss: -235292607989012.3125 - val_accuracy: 0.0000e+00\n",
      "Epoch 78/100\n",
      "253/253 [==============================] - 1s 2ms/step - loss: -217156842777668.8125 - accuracy: 0.0000e+00 - val_loss: -252332224973352.6250 - val_accuracy: 0.0000e+00\n",
      "Epoch 79/100\n",
      "253/253 [==============================] - 1s 2ms/step - loss: -231136339110268.4688 - accuracy: 0.0000e+00 - val_loss: -270285832196161.0312 - val_accuracy: 0.0000e+00\n",
      "Epoch 80/100\n",
      "253/253 [==============================] - 1s 2ms/step - loss: -248047235569477.8125 - accuracy: 0.0000e+00 - val_loss: -289096688314010.4375 - val_accuracy: 0.0000e+00\n",
      "Epoch 81/100\n",
      "253/253 [==============================] - 1s 2ms/step - loss: -265856701083664.1562 - accuracy: 0.0000e+00 - val_loss: -309096862100138.6875 - val_accuracy: 0.0000e+00\n",
      "Epoch 82/100\n",
      "253/253 [==============================] - 1s 2ms/step - loss: -282480893754355.8750 - accuracy: 0.0000e+00 - val_loss: -330063917762852.5625 - val_accuracy: 0.0000e+00\n",
      "Epoch 83/100\n",
      "253/253 [==============================] - 1s 2ms/step - loss: -303416990353756.0625 - accuracy: 0.0000e+00 - val_loss: -352188831949710.2500 - val_accuracy: 0.0000e+00\n",
      "Epoch 84/100\n",
      "253/253 [==============================] - 1s 2ms/step - loss: -320937162088415.6250 - accuracy: 0.0000e+00 - val_loss: -375228837812581.5625 - val_accuracy: 0.0000e+00\n",
      "Epoch 85/100\n",
      "253/253 [==============================] - 1s 2ms/step - loss: -342969126145125.1875 - accuracy: 0.0000e+00 - val_loss: -399576228737739.1875 - val_accuracy: 0.0000e+00\n",
      "Epoch 86/100\n",
      "253/253 [==============================] - 1s 2ms/step - loss: -366088571040537.3125 - accuracy: 0.0000e+00 - val_loss: -424981058826435.0625 - val_accuracy: 0.0000e+00\n",
      "Epoch 87/100\n",
      "253/253 [==============================] - 1s 2ms/step - loss: -389370645514523.3750 - accuracy: 0.0000e+00 - val_loss: -451733430643370.6875 - val_accuracy: 0.0000e+00\n",
      "Epoch 88/100\n",
      "253/253 [==============================] - 1s 2ms/step - loss: -412595312997274.8125 - accuracy: 0.0000e+00 - val_loss: -479841554904795.4375 - val_accuracy: 0.0000e+00\n",
      "Epoch 89/100\n",
      "253/253 [==============================] - 1s 2ms/step - loss: -437608572952543.6250 - accuracy: 0.0000e+00 - val_loss: -509187679521840.7500 - val_accuracy: 0.0000e+00\n",
      "Epoch 90/100\n",
      "253/253 [==============================] - 1s 2ms/step - loss: -464852892290472.9375 - accuracy: 0.0000e+00 - val_loss: -539869481978668.6875 - val_accuracy: 0.0000e+00\n",
      "Epoch 91/100\n",
      "253/253 [==============================] - 1s 2ms/step - loss: -492665916677787.8125 - accuracy: 0.0000e+00 - val_loss: -572242974798799.2500 - val_accuracy: 0.0000e+00\n",
      "Epoch 92/100\n"
     ]
    },
    {
     "name": "stdout",
     "output_type": "stream",
     "text": [
      "253/253 [==============================] - 1s 2ms/step - loss: -521671304304907.1250 - accuracy: 0.0000e+00 - val_loss: -605799237379478.3750 - val_accuracy: 0.0000e+00\n",
      "Epoch 93/100\n",
      "253/253 [==============================] - 1s 2ms/step - loss: -551329561045955.3125 - accuracy: 0.0000e+00 - val_loss: -640844559369492.3750 - val_accuracy: 0.0000e+00\n",
      "Epoch 94/100\n",
      "253/253 [==============================] - 1s 2ms/step - loss: -585065536050949.0000 - accuracy: 0.0000e+00 - val_loss: -677421095255023.7500 - val_accuracy: 0.0000e+00\n",
      "Epoch 95/100\n",
      "253/253 [==============================] - 1s 2ms/step - loss: -617942563485412.6250 - accuracy: 0.0000e+00 - val_loss: -715824749854459.8750 - val_accuracy: 0.0000e+00\n",
      "Epoch 96/100\n",
      "253/253 [==============================] - 1s 2ms/step - loss: -652665199003672.2500 - accuracy: 0.0000e+00 - val_loss: -755561522037256.1250 - val_accuracy: 0.0000e+00\n",
      "Epoch 97/100\n",
      "253/253 [==============================] - 1s 2ms/step - loss: -687305188762280.0000 - accuracy: 0.0000e+00 - val_loss: -797215820291185.7500 - val_accuracy: 0.0000e+00\n",
      "Epoch 98/100\n",
      "253/253 [==============================] - 1s 2ms/step - loss: -724656584053885.5000 - accuracy: 0.0000e+00 - val_loss: -840492977050965.3750 - val_accuracy: 0.0000e+00\n",
      "Epoch 99/100\n",
      "253/253 [==============================] - 1s 2ms/step - loss: -767294055968460.3750 - accuracy: 0.0000e+00 - val_loss: -885959423085356.7500 - val_accuracy: 0.0000e+00\n",
      "Epoch 100/100\n",
      "253/253 [==============================] - 1s 2ms/step - loss: -810974945784342.2500 - accuracy: 0.0000e+00 - val_loss: -933214979716567.2500 - val_accuracy: 0.0000e+00\n"
     ]
    }
   ],
   "source": [
    "model_3.compile(optimizer='adam',\n",
    "              loss='binary_crossentropy',\n",
    "              metrics=['accuracy'],)\n",
    "hist_3 = model_3.fit(X_train, Y_train,\n",
    "          batch_size=32, epochs=100,\n",
    "          validation_data=(X_val, Y_val))"
   ]
  },
  {
   "cell_type": "code",
   "execution_count": 648,
   "metadata": {},
   "outputs": [
    {
     "name": "stdout",
     "output_type": "stream",
     "text": [
      "127/127 [==============================] - 0s 71us/step\n"
     ]
    },
    {
     "data": {
      "text/plain": [
       "0.0"
      ]
     },
     "execution_count": 648,
     "metadata": {},
     "output_type": "execute_result"
    }
   ],
   "source": [
    "model.evaluate(X_test, Y_test)[1]"
   ]
  },
  {
   "cell_type": "code",
   "execution_count": 649,
   "metadata": {},
   "outputs": [
    {
     "data": {
      "image/png": "[encoded data removed]",
      "text/plain": [
       "<Figure size 432x288 with 1 Axes>"
      ]
     },
     "metadata": {
      "needs_background": "light"
     },
     "output_type": "display_data"
    }
   ],
   "source": [
    "plt.plot(hist_3.history['loss'])\n",
    "plt.plot(hist_3.history['val_loss'])\n",
    "plt.title('Model loss')\n",
    "plt.ylabel('Loss')\n",
    "plt.xlabel('Epoch')\n",
    "plt.legend(['Train', 'Val'], loc='upper right')\n",
    "plt.ylim(top=1.2, bottom=0)\n",
    "plt.show()"
   ]
  },
  {
   "cell_type": "code",
   "execution_count": 650,
   "metadata": {},
   "outputs": [
    {
     "data": {
      "image/png": "[encoded data removed]",
      "text/plain": [
       "<Figure size 432x288 with 1 Axes>"
      ]
     },
     "metadata": {
      "needs_background": "light"
     },
     "output_type": "display_data"
    }
   ],
   "source": [
    "plt.plot(hist_3.history['accuracy'])\n",
    "plt.plot(hist_3.history['val_accuracy'])\n",
    "plt.title('Model accuracy')\n",
    "plt.ylabel('Accuracy')\n",
    "plt.xlabel('Epoch')\n",
    "plt.legend(['Train', 'Val'], loc='lower right')\n",
    "plt.show()"
   ]
  },
  {
   "cell_type": "code",
   "execution_count": null,
   "metadata": {},
   "outputs": [],
   "source": []
  }
 ],
 "metadata": {
  "kernelspec": {
   "display_name": "Python 3",
   "language": "python",
   "name": "python3"
  },
  "language_info": {
   "codemirror_mode": {
    "name": "ipython",
    "version": 3
   },
   "file_extension": ".py",
   "mimetype": "text/x-python",
   "name": "python",
   "nbconvert_exporter": "python",
   "pygments_lexer": "ipython3",
   "version": "3.7.5"
  }
 },
 "nbformat": 4,
 "nbformat_minor": 2
}
